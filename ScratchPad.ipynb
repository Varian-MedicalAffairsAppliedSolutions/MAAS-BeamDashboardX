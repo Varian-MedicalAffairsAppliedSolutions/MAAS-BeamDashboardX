{
 "cells": [
  {
   "cell_type": "code",
   "execution_count": 1,
   "id": "5cbf65ed",
   "metadata": {},
   "outputs": [],
   "source": [
    "import numpy as np\n",
    "# from matplotlib import pyplot as plt\n",
    "from time import time\n",
    "\n",
    "import pyesapi\n",
    "import atexit\n",
    "app = pyesapi.CustomScriptExecutable.CreateApplication('python_demo')\n",
    "atexit.register(app.Dispose);"
   ]
  },
  {
   "cell_type": "code",
   "execution_count": 2,
   "id": "cc279f28",
   "metadata": {},
   "outputs": [],
   "source": [
    "# !pip install chart_studio\n",
    "import chart_studio.plotly as py\n",
    "import plotly.figure_factory as ff\n",
    "import pandas as pd"
   ]
  },
  {
   "cell_type": "code",
   "execution_count": 2,
   "id": "b37c0929",
   "metadata": {
    "scrolled": true
   },
   "outputs": [
    {
     "name": "stdout",
     "output_type": "stream",
     "text": [
      "CCS OncQT Sunday_Rob CCS OncQT\n",
      "2274444 Zlack James\n",
      "Eclipse01 Holy Name PET Case 1C \n",
      "2277755 Black James\n",
      "SRS-Lung Baker Josephin\n",
      "00IGRT_50 Protosky Pekka\n",
      "00IGRT21 Headly Nick\n",
      "00IGRT71 Lundgren Larry\n",
      "00IGRT67 Seddon Ron\n",
      "00IGRT66 Jones Harold\n",
      "00IGRT65 Pearlman Samuel\n",
      "00IGRT64 Jones Melody\n",
      "00IGRT41 Bladder Blake\n",
      "00IGRT42 Prosser Pedro\n",
      "00IGRT43 Lunn Luke\n",
      "00IGRT01 Lundahl Esau\n",
      "00IGRT44 Benson Brigitte\n",
      "00IGRT61 Peter Pelllhum\n",
      "00IGRT62 Pelton Paul\n",
      "00IGRT_85 Peltz Reginald\n",
      "00IGRT_87 Long Henry\n",
      "00IGRT_90 Pellman Elvis\n",
      "00IGRT_86 Lunsford Andy\n",
      "00IGRT_88 Pelletier Richard\n",
      "00IGRT_89 Denton Margaret\n",
      "Eclipse_18 Rt Lung Tumor RA, DRR\n",
      "MK11111 Mike Arinas\n",
      "11133313 Female MR2 CCS Test\n",
      "MR30928 Smythe Janine\n",
      "5563207 Cote Pearl\n",
      "MR1234 Demont Patricia\n",
      "MR43729 Smith David\n",
      "100665241 Pancher Harold\n",
      "MR039547 Flannigan Patrice\n",
      "2587413 James Susan T\n",
      "1897856 Arrows Gail\n",
      "MR09395 Newberry Sara\n",
      "MR83943 O'Malee Candace\n",
      "9876548 Janzen Joyce T\n",
      "2563149 Jamieson Everett T\n",
      "MR37438 Smyth Jannine\n",
      "2587469 Jacobson Randolph T\n",
      "4324677 Arnette Gail\n",
      "4576894 Chartrand Claude\n",
      "MR39483 Newsome Stephen\n",
      "7656776 Jackson Clara\n",
      "12345677889 Bretson Sam\n",
      "M138582 Lewski Todd\n",
      "897436101 Holder Brian\n",
      "2542A53 Ottan Sue\n",
      "379316469 Simms Mary\n",
      "A3546313 Shearling Joseph\n",
      "SmartSeg 4 Rectum T3 N1 M0\n",
      "Eclipse-02 Prostate IMRT, RA, VMAT, mArc\n",
      "Eclipse-03 Head and Neck Two PTV's\n",
      "Eclipse-04 Lung Right Upper\n",
      "Eclipse-05 Breast Left with breast board\n",
      "Eclipse-06 Pancreas TrueBeam\n",
      "Proton-1 GYN Primary with nodal disease\n",
      "Proton-2 Medullo Pediatric\n",
      "Registration 2 Registration Brain CT-MR\n",
      "Registration 1 Head and Neck CT and CBCT\n",
      "Registration 3 HeadNeck CT MRI\n",
      "Registration 4 Initial Plan CT to New Plan CT Tumor shrinkage\n",
      "SmartSeg 1 Prostate T2 N0 M0 PSA8 GS8\n",
      "SmartSeg 2 Tonsil T3 N2b M0 right\n",
      "SmartSeg 3 Nasopharynx T2 N2 M0 right\n",
      "Registration 5 PET CT to Plan CT Deformable\n",
      "VSS 01 Spine T6 and T11, CT-MR\n",
      "VSS 02 Lung RT and LT Lesions, CT\n",
      "VSS 06 Acoustic Neuroma CT - MR\n",
      "VSS 04 Brain, Primary Meningioma, CT-MR\n",
      "RapidPlan-01 RapidPlan Prostate T1cN0M0 PSA21.6 G7\n",
      "Eclipse-08 SRS Cone Planning\n",
      "RapidPlan-06 RapidPlan Lung LUL\n",
      "SmartSeg 9 Lung RML Multiobserver Early\n",
      "Calypso-01 Calypso Prostate Markers\n",
      "RapidPlan-02 RapidPlan ProstateNodes T2cN0M0\n",
      "RapidPlan-03 RapidPlan HN 3 PTV\n",
      "RapidPlan-04 RapidPlan HN 3 PTV\n",
      "Proton 05 PT LUNG 4D SBRT Singa2014\n",
      "Proton 04 PT NPC Singa2014\n",
      "Proton 03 PT PROSTATE Singa2014\n",
      "Proton 01 PT CSI Singa2014\n",
      "Proton 02 PT LUNG Singa2014\n",
      "Registration 6 Prostate Target Registration Error\n",
      "Eclipse-01 4D Lung PET CT\n",
      "Proton 06 Orbital \n",
      "Eclipse 11 MCO Brain\n",
      "CSI_01 Auto Feathering CSI\n",
      "Eclipse 07 HyperArc Brain\n",
      "Demo1234 Demo Shaun\n",
      "123432 Smith Tom\n",
      "EBRT+Brachy Velocity EBRT+Brachy \n",
      "Vel Adapt Velocity Adaptive\n",
      "EC-2006 EIPOPS PROSTATE\n",
      "Features Demo Features\n",
      "545456677 Testing CCS MO\n",
      "h20phantom Water \n",
      "LUNG_063 Lung \n",
      "Sphere Phantom Sphere Phantom\n"
     ]
    }
   ],
   "source": [
    "for pat in app.PatientSummaries:\n",
    "    print(pat.Id, pat.LastName, pat.FirstName)"
   ]
  },
  {
   "cell_type": "code",
   "execution_count": 3,
   "id": "d81b3730",
   "metadata": {},
   "outputs": [
    {
     "name": "stdout",
     "output_type": "stream",
     "text": [
      "plan id: MOBug5Field\n",
      "structure set id: Struc\n"
     ]
    }
   ],
   "source": [
    "app.ClosePatient()\n",
    "patient = app.OpenPatientById('LUNG_063')\n",
    "plan = patient.CoursesLot('Min MU 400').PlanSetupsLot(0)\n",
    "structures = plan.StructureSet.StructuresLot()\n",
    "print(f'plan id: {plan.Id}\\nstructure set id: {plan.StructureSet.Id}')"
   ]
  },
  {
   "cell_type": "code",
   "execution_count": 42,
   "id": "5a5176b1",
   "metadata": {},
   "outputs": [
    {
     "data": {
      "text/html": [
       "<div>\n",
       "<style scoped>\n",
       "    .dataframe tbody tr th:only-of-type {\n",
       "        vertical-align: middle;\n",
       "    }\n",
       "\n",
       "    .dataframe tbody tr th {\n",
       "        vertical-align: top;\n",
       "    }\n",
       "\n",
       "    .dataframe thead th {\n",
       "        text-align: right;\n",
       "    }\n",
       "</style>\n",
       "<table border=\"1\" class=\"dataframe\">\n",
       "  <thead>\n",
       "    <tr style=\"text-align: right;\">\n",
       "      <th></th>\n",
       "      <th>Beam ID</th>\n",
       "      <th>Structure ID</th>\n",
       "      <th>Color</th>\n",
       "      <th>Points X</th>\n",
       "      <th>Points Y</th>\n",
       "      <th>Contour Idx</th>\n",
       "    </tr>\n",
       "  </thead>\n",
       "  <tbody>\n",
       "    <tr>\n",
       "      <th>0</th>\n",
       "      <td>Field 1</td>\n",
       "      <td>PTV</td>\n",
       "      <td>#FF00FFFF</td>\n",
       "      <td>-4.4</td>\n",
       "      <td>17.8</td>\n",
       "      <td>0</td>\n",
       "    </tr>\n",
       "    <tr>\n",
       "      <th>1</th>\n",
       "      <td>Field 1</td>\n",
       "      <td>PTV</td>\n",
       "      <td>#FF00FFFF</td>\n",
       "      <td>1.8</td>\n",
       "      <td>17.7</td>\n",
       "      <td>0</td>\n",
       "    </tr>\n",
       "    <tr>\n",
       "      <th>2</th>\n",
       "      <td>Field 1</td>\n",
       "      <td>PTV</td>\n",
       "      <td>#FF00FFFF</td>\n",
       "      <td>3.8</td>\n",
       "      <td>17.5</td>\n",
       "      <td>0</td>\n",
       "    </tr>\n",
       "    <tr>\n",
       "      <th>3</th>\n",
       "      <td>Field 1</td>\n",
       "      <td>PTV</td>\n",
       "      <td>#FF00FFFF</td>\n",
       "      <td>5.0</td>\n",
       "      <td>17.3</td>\n",
       "      <td>0</td>\n",
       "    </tr>\n",
       "    <tr>\n",
       "      <th>4</th>\n",
       "      <td>Field 1</td>\n",
       "      <td>PTV</td>\n",
       "      <td>#FF00FFFF</td>\n",
       "      <td>6.6</td>\n",
       "      <td>17.1</td>\n",
       "      <td>0</td>\n",
       "    </tr>\n",
       "    <tr>\n",
       "      <th>...</th>\n",
       "      <td>...</td>\n",
       "      <td>...</td>\n",
       "      <td>...</td>\n",
       "      <td>...</td>\n",
       "      <td>...</td>\n",
       "      <td>...</td>\n",
       "    </tr>\n",
       "    <tr>\n",
       "      <th>79</th>\n",
       "      <td>Field 5</td>\n",
       "      <td>PTV</td>\n",
       "      <td>#FF00FFFF</td>\n",
       "      <td>-10.4</td>\n",
       "      <td>16.5</td>\n",
       "      <td>0</td>\n",
       "    </tr>\n",
       "    <tr>\n",
       "      <th>80</th>\n",
       "      <td>Field 5</td>\n",
       "      <td>PTV</td>\n",
       "      <td>#FF00FFFF</td>\n",
       "      <td>-8.8</td>\n",
       "      <td>16.9</td>\n",
       "      <td>0</td>\n",
       "    </tr>\n",
       "    <tr>\n",
       "      <th>81</th>\n",
       "      <td>Field 5</td>\n",
       "      <td>PTV</td>\n",
       "      <td>#FF00FFFF</td>\n",
       "      <td>-7.6</td>\n",
       "      <td>17.1</td>\n",
       "      <td>0</td>\n",
       "    </tr>\n",
       "    <tr>\n",
       "      <th>82</th>\n",
       "      <td>Field 5</td>\n",
       "      <td>PTV</td>\n",
       "      <td>#FF00FFFF</td>\n",
       "      <td>-4.8</td>\n",
       "      <td>17.5</td>\n",
       "      <td>0</td>\n",
       "    </tr>\n",
       "    <tr>\n",
       "      <th>83</th>\n",
       "      <td>Field 5</td>\n",
       "      <td>PTV</td>\n",
       "      <td>#FF00FFFF</td>\n",
       "      <td>-3.2</td>\n",
       "      <td>17.6</td>\n",
       "      <td>0</td>\n",
       "    </tr>\n",
       "  </tbody>\n",
       "</table>\n",
       "<p>517 rows × 6 columns</p>\n",
       "</div>"
      ],
      "text/plain": [
       "    Beam ID Structure ID      Color  Points X  Points Y  Contour Idx\n",
       "0   Field 1          PTV  #FF00FFFF      -4.4      17.8            0\n",
       "1   Field 1          PTV  #FF00FFFF       1.8      17.7            0\n",
       "2   Field 1          PTV  #FF00FFFF       3.8      17.5            0\n",
       "3   Field 1          PTV  #FF00FFFF       5.0      17.3            0\n",
       "4   Field 1          PTV  #FF00FFFF       6.6      17.1            0\n",
       "..      ...          ...        ...       ...       ...          ...\n",
       "79  Field 5          PTV  #FF00FFFF     -10.4      16.5            0\n",
       "80  Field 5          PTV  #FF00FFFF      -8.8      16.9            0\n",
       "81  Field 5          PTV  #FF00FFFF      -7.6      17.1            0\n",
       "82  Field 5          PTV  #FF00FFFF      -4.8      17.5            0\n",
       "83  Field 5          PTV  #FF00FFFF      -3.2      17.6            0\n",
       "\n",
       "[517 rows x 6 columns]"
      ]
     },
     "execution_count": 42,
     "metadata": {},
     "output_type": "execute_result"
    }
   ],
   "source": [
    "dfc = None\n",
    "\n",
    "for beam in plan.Beams:\n",
    "    beam_target = structures[beam.TargetStructure.Id]\n",
    "    for idx, contour in enumerate(beam.GetStructureOutlines(beam_target,True)):\n",
    "        dfc = pd.concat([dfc, pd.DataFrame({\n",
    "            'Beam ID' : beam.Id,\n",
    "            'Structure ID': beam_target.Id,\n",
    "            'Color': beam_target.Color.ToString(),\n",
    "            'Points X' : [p.X for p in contour],\n",
    "            'Points Y' : [p.Y for p in contour],\n",
    "            'Contour Idx' : idx,\n",
    "        })])\n",
    "dfc"
   ]
  },
  {
   "cell_type": "code",
   "execution_count": 49,
   "id": "c01b84e4",
   "metadata": {},
   "outputs": [],
   "source": [
    "tdf=dfc[dfc['Beam ID'] == 'Field 1']"
   ]
  },
  {
   "cell_type": "code",
   "execution_count": 61,
   "id": "c2dada74",
   "metadata": {},
   "outputs": [
    {
     "name": "stdout",
     "output_type": "stream",
     "text": [
      "PTV\n"
     ]
    }
   ],
   "source": [
    "for gn, gdf in tdf.groupby('Contour Idx'):\n",
    "#     print(gn)\n",
    "    print(gdf['Structure ID'][0])"
   ]
  },
  {
   "cell_type": "code",
   "execution_count": 62,
   "id": "718ac2af",
   "metadata": {},
   "outputs": [
    {
     "ename": "ModuleNotFoundError",
     "evalue": "No module named 'PIL'",
     "output_type": "error",
     "traceback": [
      "\u001b[1;31m---------------------------------------------------------------------------\u001b[0m",
      "\u001b[1;31mModuleNotFoundError\u001b[0m                       Traceback (most recent call last)",
      "Cell \u001b[1;32mIn[62], line 1\u001b[0m\n\u001b[1;32m----> 1\u001b[0m \u001b[38;5;28;01mfrom\u001b[39;00m \u001b[38;5;21;01mPIL\u001b[39;00m \u001b[38;5;28;01mimport\u001b[39;00m ImageColor\n",
      "\u001b[1;31mModuleNotFoundError\u001b[0m: No module named 'PIL'"
     ]
    }
   ],
   "source": [
    "from PIL import ImageColor"
   ]
  },
  {
   "cell_type": "code",
   "execution_count": 6,
   "id": "37ac7162",
   "metadata": {},
   "outputs": [
    {
     "name": "stdout",
     "output_type": "stream",
     "text": [
      "Extracting data...\n"
     ]
    }
   ],
   "source": [
    "#multi layer\n",
    "app.ClosePatient()\n",
    "patient = app.OpenPatientById('LUNG_063')\n",
    "plan = patient.CoursesLot('BraggRnD').PlanSetupsLot('SCPlan2')\n",
    "# structures = plan.StructureSet.StructuresLot()\n",
    "# print(f'plan id: {plan.Id}\\nstructure set id: {plan.StructureSet.Id}')\n",
    "\n",
    "# load spot data\n",
    "df = None\n",
    "print(\"Extracting data...\")\n",
    "for beam in plan.IonBeams:\n",
    "    beamMetersetValue = beam.Meterset.Value\n",
    "    totMetersetWeight = [cpp for cpp in beam.IonControlPoints][-1].MetersetWeight\n",
    "    eParams = beam.GetEditableParameters()\n",
    "    for layerIdx, controlPoint in enumerate(eParams.IonControlPointPairs):\n",
    "        df = pd.concat([df, pd.DataFrame({\n",
    "            'Field ID': beam.Id,\n",
    "            'Energy Layer [MeV]': controlPoint.NominalBeamEnergy,\n",
    "            'X [mm]': [s.X for s in controlPoint.FinalSpotList],\n",
    "            'Y [mm]': [s.Y for s in controlPoint.FinalSpotList],\n",
    "            'MU': [s.Weight * (beamMetersetValue / totMetersetWeight) for s in controlPoint.FinalSpotList],\n",
    "        })])"
   ]
  },
  {
   "cell_type": "code",
   "execution_count": 22,
   "id": "3f286790",
   "metadata": {},
   "outputs": [],
   "source": [
    "for fid, fgrp in df.groupby('Field ID'):\n",
    "    test=fgrp['Energy Layer [MeV]'].unique()[0]"
   ]
  },
  {
   "cell_type": "code",
   "execution_count": 30,
   "id": "8b419dd2",
   "metadata": {},
   "outputs": [
    {
     "name": "stdout",
     "output_type": "stream",
     "text": [
      "102.104\n",
      "<class 'numpy.float64'>\n"
     ]
    },
    {
     "ename": "KeyError",
     "evalue": "False",
     "output_type": "error",
     "traceback": [
      "\u001b[1;31m---------------------------------------------------------------------------\u001b[0m",
      "\u001b[1;31mKeyError\u001b[0m                                  Traceback (most recent call last)",
      "File \u001b[1;32m~\\Documents\\DashboardPro\\env\\lib\\site-packages\\pandas\\core\\indexes\\base.py:3653\u001b[0m, in \u001b[0;36mIndex.get_loc\u001b[1;34m(self, key)\u001b[0m\n\u001b[0;32m   3652\u001b[0m \u001b[38;5;28;01mtry\u001b[39;00m:\n\u001b[1;32m-> 3653\u001b[0m     \u001b[38;5;28;01mreturn\u001b[39;00m \u001b[38;5;28;43mself\u001b[39;49m\u001b[38;5;241;43m.\u001b[39;49m\u001b[43m_engine\u001b[49m\u001b[38;5;241;43m.\u001b[39;49m\u001b[43mget_loc\u001b[49m\u001b[43m(\u001b[49m\u001b[43mcasted_key\u001b[49m\u001b[43m)\u001b[49m\n\u001b[0;32m   3654\u001b[0m \u001b[38;5;28;01mexcept\u001b[39;00m \u001b[38;5;167;01mKeyError\u001b[39;00m \u001b[38;5;28;01mas\u001b[39;00m err:\n",
      "File \u001b[1;32m~\\Documents\\DashboardPro\\env\\lib\\site-packages\\pandas\\_libs\\index.pyx:147\u001b[0m, in \u001b[0;36mpandas._libs.index.IndexEngine.get_loc\u001b[1;34m()\u001b[0m\n",
      "File \u001b[1;32m~\\Documents\\DashboardPro\\env\\lib\\site-packages\\pandas\\_libs\\index.pyx:176\u001b[0m, in \u001b[0;36mpandas._libs.index.IndexEngine.get_loc\u001b[1;34m()\u001b[0m\n",
      "File \u001b[1;32mpandas\\_libs\\hashtable_class_helper.pxi:7080\u001b[0m, in \u001b[0;36mpandas._libs.hashtable.PyObjectHashTable.get_item\u001b[1;34m()\u001b[0m\n",
      "File \u001b[1;32mpandas\\_libs\\hashtable_class_helper.pxi:7088\u001b[0m, in \u001b[0;36mpandas._libs.hashtable.PyObjectHashTable.get_item\u001b[1;34m()\u001b[0m\n",
      "\u001b[1;31mKeyError\u001b[0m: False",
      "\nThe above exception was the direct cause of the following exception:\n",
      "\u001b[1;31mKeyError\u001b[0m                                  Traceback (most recent call last)",
      "Cell \u001b[1;32mIn[30], line 3\u001b[0m\n\u001b[0;32m      1\u001b[0m \u001b[38;5;28mprint\u001b[39m(test)\n\u001b[0;32m      2\u001b[0m \u001b[38;5;28mprint\u001b[39m(\u001b[38;5;28mtype\u001b[39m(test))\n\u001b[1;32m----> 3\u001b[0m \u001b[43mfgrp\u001b[49m\u001b[43m[\u001b[49m\u001b[38;5;124;43m'\u001b[39;49m\u001b[38;5;124;43mEnergy Layer [MeV]\u001b[39;49m\u001b[38;5;124;43m'\u001b[39;49m\u001b[38;5;241;43m==\u001b[39;49m\u001b[43m \u001b[49m\u001b[43mnp\u001b[49m\u001b[38;5;241;43m.\u001b[39;49m\u001b[43mfloat64\u001b[49m\u001b[43m(\u001b[49m\u001b[38;5;241;43m81.104\u001b[39;49m\u001b[43m)\u001b[49m\u001b[43m]\u001b[49m\n",
      "File \u001b[1;32m~\\Documents\\DashboardPro\\env\\lib\\site-packages\\pandas\\core\\frame.py:3761\u001b[0m, in \u001b[0;36mDataFrame.__getitem__\u001b[1;34m(self, key)\u001b[0m\n\u001b[0;32m   3759\u001b[0m \u001b[38;5;28;01mif\u001b[39;00m \u001b[38;5;28mself\u001b[39m\u001b[38;5;241m.\u001b[39mcolumns\u001b[38;5;241m.\u001b[39mnlevels \u001b[38;5;241m>\u001b[39m \u001b[38;5;241m1\u001b[39m:\n\u001b[0;32m   3760\u001b[0m     \u001b[38;5;28;01mreturn\u001b[39;00m \u001b[38;5;28mself\u001b[39m\u001b[38;5;241m.\u001b[39m_getitem_multilevel(key)\n\u001b[1;32m-> 3761\u001b[0m indexer \u001b[38;5;241m=\u001b[39m \u001b[38;5;28;43mself\u001b[39;49m\u001b[38;5;241;43m.\u001b[39;49m\u001b[43mcolumns\u001b[49m\u001b[38;5;241;43m.\u001b[39;49m\u001b[43mget_loc\u001b[49m\u001b[43m(\u001b[49m\u001b[43mkey\u001b[49m\u001b[43m)\u001b[49m\n\u001b[0;32m   3762\u001b[0m \u001b[38;5;28;01mif\u001b[39;00m is_integer(indexer):\n\u001b[0;32m   3763\u001b[0m     indexer \u001b[38;5;241m=\u001b[39m [indexer]\n",
      "File \u001b[1;32m~\\Documents\\DashboardPro\\env\\lib\\site-packages\\pandas\\core\\indexes\\base.py:3655\u001b[0m, in \u001b[0;36mIndex.get_loc\u001b[1;34m(self, key)\u001b[0m\n\u001b[0;32m   3653\u001b[0m     \u001b[38;5;28;01mreturn\u001b[39;00m \u001b[38;5;28mself\u001b[39m\u001b[38;5;241m.\u001b[39m_engine\u001b[38;5;241m.\u001b[39mget_loc(casted_key)\n\u001b[0;32m   3654\u001b[0m \u001b[38;5;28;01mexcept\u001b[39;00m \u001b[38;5;167;01mKeyError\u001b[39;00m \u001b[38;5;28;01mas\u001b[39;00m err:\n\u001b[1;32m-> 3655\u001b[0m     \u001b[38;5;28;01mraise\u001b[39;00m \u001b[38;5;167;01mKeyError\u001b[39;00m(key) \u001b[38;5;28;01mfrom\u001b[39;00m \u001b[38;5;21;01merr\u001b[39;00m\n\u001b[0;32m   3656\u001b[0m \u001b[38;5;28;01mexcept\u001b[39;00m \u001b[38;5;167;01mTypeError\u001b[39;00m:\n\u001b[0;32m   3657\u001b[0m     \u001b[38;5;66;03m# If we have a listlike key, _check_indexing_error will raise\u001b[39;00m\n\u001b[0;32m   3658\u001b[0m     \u001b[38;5;66;03m#  InvalidIndexError. Otherwise we fall through and re-raise\u001b[39;00m\n\u001b[0;32m   3659\u001b[0m     \u001b[38;5;66;03m#  the TypeError.\u001b[39;00m\n\u001b[0;32m   3660\u001b[0m     \u001b[38;5;28mself\u001b[39m\u001b[38;5;241m.\u001b[39m_check_indexing_error(key)\n",
      "\u001b[1;31mKeyError\u001b[0m: False"
     ]
    }
   ],
   "source": [
    "print(test)\n",
    "print(type(test))\n",
    "fgrp['Energy Layer [MeV]'== np.float64(81.104)]"
   ]
  },
  {
   "cell_type": "code",
   "execution_count": null,
   "id": "abe6d9be",
   "metadata": {},
   "outputs": [],
   "source": [
    "pyesapi.clr."
   ]
  }
 ],
 "metadata": {
  "kernelspec": {
   "display_name": "Python 3 (ipykernel)",
   "language": "python",
   "name": "python3"
  },
  "language_info": {
   "codemirror_mode": {
    "name": "ipython",
    "version": 3
   },
   "file_extension": ".py",
   "mimetype": "text/x-python",
   "name": "python",
   "nbconvert_exporter": "python",
   "pygments_lexer": "ipython3",
   "version": "3.10.11"
  }
 },
 "nbformat": 4,
 "nbformat_minor": 5
}
