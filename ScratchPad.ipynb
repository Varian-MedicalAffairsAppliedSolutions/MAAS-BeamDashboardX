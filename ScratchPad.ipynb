{
 "cells": [
  {
   "cell_type": "code",
   "execution_count": 1,
   "id": "5cbf65ed",
   "metadata": {},
   "outputs": [],
   "source": [
    "import numpy as np\n",
    "# from matplotlib import pyplot as plt\n",
    "from time import time\n",
    "\n",
    "import pyesapi\n",
    "import atexit\n",
    "app = pyesapi.CustomScriptExecutable.CreateApplication('python_demo')\n",
    "atexit.register(app.Dispose);"
   ]
  },
  {
   "cell_type": "code",
   "execution_count": 94,
   "id": "d6cd3a62-133a-4003-bef0-70d969ebab6b",
   "metadata": {},
   "outputs": [],
   "source": [
    "# import streamlit as st\n",
    "# from streamlit_jupyter import StreamlitPatcher, tqdm\n",
    "# StreamlitPatcher().jupyter()  # register streamlit with jupyter-compatible wrappers"
   ]
  },
  {
   "cell_type": "code",
   "execution_count": 74,
   "id": "cc279f28",
   "metadata": {},
   "outputs": [],
   "source": [
    "import pandas as pd\n",
    "import chart_studio.plotly as py\n",
    "import plotly.figure_factory as ff\n",
    "from plotly.offline import iplot"
   ]
  },
  {
   "cell_type": "code",
   "execution_count": 3,
   "id": "b37c0929",
   "metadata": {
    "scrolled": true
   },
   "outputs": [
    {
     "name": "stdout",
     "output_type": "stream",
     "text": [
      "CCS OncQT Sunday_Rob CCS OncQT\n",
      "2274444 Zlack James\n",
      "Eclipse01 Holy Name PET Case 1C \n",
      "2277755 Black James\n",
      "SRS-Lung Baker Josephin\n",
      "00IGRT_50 Protosky Pekka\n",
      "00IGRT21 Headly Nick\n",
      "00IGRT71 Lundgren Larry\n",
      "00IGRT67 Seddon Ron\n",
      "00IGRT66 Jones Harold\n",
      "00IGRT65 Pearlman Samuel\n",
      "00IGRT64 Jones Melody\n",
      "00IGRT41 Bladder Blake\n",
      "00IGRT42 Prosser Pedro\n",
      "00IGRT43 Lunn Luke\n",
      "00IGRT01 Lundahl Esau\n",
      "00IGRT44 Benson Brigitte\n",
      "00IGRT61 Peter Pelllhum\n",
      "00IGRT62 Pelton Paul\n",
      "00IGRT_85 Peltz Reginald\n",
      "00IGRT_87 Long Henry\n",
      "00IGRT_90 Pellman Elvis\n",
      "00IGRT_86 Lunsford Andy\n",
      "00IGRT_88 Pelletier Richard\n",
      "00IGRT_89 Denton Margaret\n",
      "Eclipse_18 Rt Lung Tumor RA, DRR\n",
      "MK11111 Mike Arinas\n",
      "11133313 Female MR2 CCS Test\n",
      "MR30928 Smythe Janine\n",
      "5563207 Cote Pearl\n",
      "MR1234 Demont Patricia\n",
      "MR43729 Smith David\n",
      "100665241 Pancher Harold\n",
      "MR039547 Flannigan Patrice\n",
      "2587413 James Susan T\n",
      "1897856 Arrows Gail\n",
      "MR09395 Newberry Sara\n",
      "MR83943 O'Malee Candace\n",
      "9876548 Janzen Joyce T\n",
      "2563149 Jamieson Everett T\n",
      "MR37438 Smyth Jannine\n",
      "2587469 Jacobson Randolph T\n",
      "4324677 Arnette Gail\n",
      "4576894 Chartrand Claude\n",
      "MR39483 Newsome Stephen\n",
      "7656776 Jackson Clara\n",
      "12345677889 Bretson Sam\n",
      "M138582 Lewski Todd\n",
      "897436101 Holder Brian\n",
      "2542A53 Ottan Sue\n",
      "379316469 Simms Mary\n",
      "A3546313 Shearling Joseph\n",
      "SmartSeg 4 Rectum T3 N1 M0\n",
      "Eclipse-02 Prostate IMRT, RA, VMAT, mArc\n",
      "Eclipse-03 Head and Neck Two PTV's\n",
      "Eclipse-04 Lung Right Upper\n",
      "Eclipse-05 Breast Left with breast board\n",
      "Eclipse-06 Pancreas TrueBeam\n",
      "Proton-1 GYN Primary with nodal disease\n",
      "Proton-2 Medullo Pediatric\n",
      "Registration 2 Registration Brain CT-MR\n",
      "Registration 1 Head and Neck CT and CBCT\n",
      "Registration 3 HeadNeck CT MRI\n",
      "Registration 4 Initial Plan CT to New Plan CT Tumor shrinkage\n",
      "SmartSeg 1 Prostate T2 N0 M0 PSA8 GS8\n",
      "SmartSeg 2 Tonsil T3 N2b M0 right\n",
      "SmartSeg 3 Nasopharynx T2 N2 M0 right\n",
      "Registration 5 PET CT to Plan CT Deformable\n",
      "VSS 01 Spine T6 and T11, CT-MR\n",
      "VSS 02 Lung RT and LT Lesions, CT\n",
      "VSS 06 Acoustic Neuroma CT - MR\n",
      "VSS 04 Brain, Primary Meningioma, CT-MR\n",
      "RapidPlan-01 RapidPlan Prostate T1cN0M0 PSA21.6 G7\n",
      "Eclipse-08 SRS Cone Planning\n",
      "RapidPlan-06 RapidPlan Lung LUL\n",
      "SmartSeg 9 Lung RML Multiobserver Early\n",
      "Calypso-01 Calypso Prostate Markers\n",
      "RapidPlan-02 RapidPlan ProstateNodes T2cN0M0\n",
      "RapidPlan-03 RapidPlan HN 3 PTV\n",
      "RapidPlan-04 RapidPlan HN 3 PTV\n",
      "Proton 05 PT LUNG 4D SBRT Singa2014\n",
      "Proton 04 PT NPC Singa2014\n",
      "Proton 03 PT PROSTATE Singa2014\n",
      "Proton 01 PT CSI Singa2014\n",
      "Proton 02 PT LUNG Singa2014\n",
      "Registration 6 Prostate Target Registration Error\n",
      "Eclipse-01 4D Lung PET CT\n",
      "Proton 06 Orbital \n",
      "Eclipse 11 MCO Brain\n",
      "CSI_01 Auto Feathering CSI\n",
      "Eclipse 07 HyperArc Brain\n",
      "Demo1234 Demo Shaun\n",
      "123432 Smith Tom\n",
      "EBRT+Brachy Velocity EBRT+Brachy \n",
      "Vel Adapt Velocity Adaptive\n",
      "EC-2006 EIPOPS PROSTATE\n",
      "Features Demo Features\n",
      "545456677 Testing CCS MO\n",
      "TPSAcceptance TPSAcceptance \n",
      "zzz_CAP_SSeg CAP SmartSeg\n",
      "IPATEST IPATEST Varian\n"
     ]
    }
   ],
   "source": [
    "for pat in app.PatientSummaries:\n",
    "    print(pat.Id, pat.LastName, pat.FirstName)"
   ]
  },
  {
   "cell_type": "code",
   "execution_count": 50,
   "id": "d81b3730",
   "metadata": {},
   "outputs": [
    {
     "name": "stdout",
     "output_type": "stream",
     "text": [
      "plan id: TB 10X 2arc\n",
      "structure set id: C1\n"
     ]
    }
   ],
   "source": [
    "# --plan-id \"10x IMRT1\" --course-id \"TrueBeam\" --patient-id \"Eclipse-02\"\n",
    "app.ClosePatient()\n",
    "patient = app.OpenPatientById('Eclipse-02')\n",
    "plan = patient.CoursesLot('TrueBeam').PlanSetupsLot('TB 10X 2arc')#'10x IMRT1')\n",
    "structures = plan.StructureSet.StructuresLot()\n",
    "print(f'plan id: {plan.Id}\\nstructure set id: {plan.StructureSet.Id}')"
   ]
  },
  {
   "cell_type": "code",
   "execution_count": 63,
   "id": "d6e8d90c-a801-4d4e-87cf-f48fc31b9e92",
   "metadata": {},
   "outputs": [
    {
     "name": "stdout",
     "output_type": "stream",
     "text": [
      "Extracting beam data...\n"
     ]
    },
    {
     "data": {
      "text/html": [
       "<div>\n",
       "<style scoped>\n",
       "    .dataframe tbody tr th:only-of-type {\n",
       "        vertical-align: middle;\n",
       "    }\n",
       "\n",
       "    .dataframe tbody tr th {\n",
       "        vertical-align: top;\n",
       "    }\n",
       "\n",
       "    .dataframe thead th {\n",
       "        text-align: right;\n",
       "    }\n",
       "</style>\n",
       "<table border=\"1\" class=\"dataframe\">\n",
       "  <thead>\n",
       "    <tr style=\"text-align: right;\">\n",
       "      <th></th>\n",
       "      <th>Field ID</th>\n",
       "      <th>MU</th>\n",
       "      <th>Gantry Angle</th>\n",
       "    </tr>\n",
       "  </thead>\n",
       "  <tbody>\n",
       "    <tr>\n",
       "      <th>0</th>\n",
       "      <td>Field 1</td>\n",
       "      <td>0.000000</td>\n",
       "      <td>181.000000</td>\n",
       "    </tr>\n",
       "    <tr>\n",
       "      <th>1</th>\n",
       "      <td>Field 1</td>\n",
       "      <td>0.613271</td>\n",
       "      <td>182.017045</td>\n",
       "    </tr>\n",
       "    <tr>\n",
       "      <th>2</th>\n",
       "      <td>Field 1</td>\n",
       "      <td>1.226542</td>\n",
       "      <td>184.051136</td>\n",
       "    </tr>\n",
       "    <tr>\n",
       "      <th>3</th>\n",
       "      <td>Field 1</td>\n",
       "      <td>1.226542</td>\n",
       "      <td>186.085227</td>\n",
       "    </tr>\n",
       "    <tr>\n",
       "      <th>4</th>\n",
       "      <td>Field 1</td>\n",
       "      <td>1.226542</td>\n",
       "      <td>188.119318</td>\n",
       "    </tr>\n",
       "    <tr>\n",
       "      <th>...</th>\n",
       "      <td>...</td>\n",
       "      <td>...</td>\n",
       "      <td>...</td>\n",
       "    </tr>\n",
       "    <tr>\n",
       "      <th>173</th>\n",
       "      <td>Field 2</td>\n",
       "      <td>1.477133</td>\n",
       "      <td>188.119318</td>\n",
       "    </tr>\n",
       "    <tr>\n",
       "      <th>174</th>\n",
       "      <td>Field 2</td>\n",
       "      <td>1.477133</td>\n",
       "      <td>186.085227</td>\n",
       "    </tr>\n",
       "    <tr>\n",
       "      <th>175</th>\n",
       "      <td>Field 2</td>\n",
       "      <td>1.477133</td>\n",
       "      <td>184.051136</td>\n",
       "    </tr>\n",
       "    <tr>\n",
       "      <th>176</th>\n",
       "      <td>Field 2</td>\n",
       "      <td>1.477133</td>\n",
       "      <td>182.017045</td>\n",
       "    </tr>\n",
       "    <tr>\n",
       "      <th>177</th>\n",
       "      <td>Field 2</td>\n",
       "      <td>0.738566</td>\n",
       "      <td>181.000000</td>\n",
       "    </tr>\n",
       "  </tbody>\n",
       "</table>\n",
       "<p>1246 rows × 3 columns</p>\n",
       "</div>"
      ],
      "text/plain": [
       "    Field ID        MU  Gantry Angle\n",
       "0    Field 1  0.000000    181.000000\n",
       "1    Field 1  0.613271    182.017045\n",
       "2    Field 1  1.226542    184.051136\n",
       "3    Field 1  1.226542    186.085227\n",
       "4    Field 1  1.226542    188.119318\n",
       "..       ...       ...           ...\n",
       "173  Field 2  1.477133    188.119318\n",
       "174  Field 2  1.477133    186.085227\n",
       "175  Field 2  1.477133    184.051136\n",
       "176  Field 2  1.477133    182.017045\n",
       "177  Field 2  0.738566    181.000000\n",
       "\n",
       "[1246 rows x 3 columns]"
      ]
     },
     "metadata": {},
     "output_type": "display_data"
    }
   ],
   "source": [
    "# load field data\n",
    "df = None\n",
    "print(\"Extracting beam data...\")\n",
    "for beam in plan.Beams:\n",
    "    beamMetersetValue = beam.Meterset.Value\n",
    "    totMetersetWeight = [cpp for cpp in beam.ControlPoints][-1].MetersetWeight\n",
    "    eParams = beam.GetEditableParameters()\n",
    "#    for idx, controlPoint in enumerate(eParams.ControlPoints):\n",
    "    df = pd.concat([beams_df, pd.DataFrame({\n",
    "        'Field ID': beam.Id,\n",
    "        'MU': np.diff(np.array([0]+[cp.MetersetWeight for cp in eParams.ControlPoints])*beamMetersetValue/totMetersetWeight),\n",
    "        'Gantry Angle' : [cp.GantryAngle for cp in eParams.ControlPoints]\n",
    "        # add other data elments of interest here\n",
    "    })])\n",
    "st.dataframe(df)"
   ]
  },
  {
   "cell_type": "code",
   "execution_count": null,
   "id": "fc9c3877-8d99-4fd4-aa77-3a7e56ea30f0",
   "metadata": {},
   "outputs": [],
   "source": []
  },
  {
   "cell_type": "code",
   "execution_count": 86,
   "id": "835061a2",
   "metadata": {},
   "outputs": [],
   "source": [
    "# load structure data\n",
    "structures_df = None\n",
    "for structure in plan.StructureSet.Structures:\n",
    "    dvh = plan.GetDVHCumulativeData(\n",
    "        structure,\n",
    "        pyesapi.DoseValuePresentation.Relative,\n",
    "        pyesapi.VolumePresentation.Relative,\n",
    "        .1\n",
    "    )\n",
    "    if dvh is not None:\n",
    "        structures_df = pd.concat([structures_df, pd.DataFrame({\n",
    "            'Structure ID': structure.Id,\n",
    "            'Color': \"#\" + structure.Color.ToString()[3:],  # format is '#AARRGGBB'\n",
    "            'Dose %': [p.DoseValue.Dose for p in dvh.CurveData],\n",
    "            'Volume %': [p.Volume for p in dvh.CurveData],\n",
    "        })])"
   ]
  },
  {
   "cell_type": "code",
   "execution_count": 91,
   "id": "5a5176b1",
   "metadata": {},
   "outputs": [],
   "source": [
    "dfc = None\n",
    "for beam in plan.Beams:\n",
    "    plan_target = plan.StructureSet.StructuresLot(plan.TargetVolumeID)\n",
    "    for idx, contour in enumerate(beam.GetStructureOutlines(plan_target,True)):\n",
    "        dfc = pd.concat([dfc, pd.DataFrame({\n",
    "            'Beam ID' : beam.Id,\n",
    "            'Structure ID': plan_target.Id,\n",
    "            'Color': '#' + plan_target.Color.ToString()[3:],\n",
    "            'Points X' : [p.X for p in contour],\n",
    "            'Points Y' : [p.Y for p in contour],\n",
    "            'Contour Idx' : idx,\n",
    "        })])"
   ]
  },
  {
   "cell_type": "code",
   "execution_count": 96,
   "id": "26d5c85c-b849-4348-9b43-a32e6260cbc8",
   "metadata": {},
   "outputs": [
    {
     "data": {
      "text/markdown": [
       "### Field 1"
      ],
      "text/plain": [
       "<IPython.core.display.Markdown object>"
      ]
     },
     "metadata": {},
     "output_type": "display_data"
    },
    {
     "data": {
      "application/vnd.plotly.v1+json": {
       "config": {
        "linkText": "Export to plot.ly",
        "plotlyServerURL": "https://plot.ly",
        "showLink": false
       },
       "data": [
        {
         "line": {
          "color": "#FF0000"
         },
         "mode": "lines",
         "name": "PTV",
         "type": "scatter",
         "x": [
          -18,
          -11.8,
          -9.399999999999999,
          -5.800000000000001,
          -3.8000000000000007,
          -1.7000000000000028,
          -1.5,
          -1,
          -0.6000000000000014,
          -0.3999999999999986,
          0,
          0.3999999999999986,
          0.7999999999999972,
          1.2999999999999972,
          1.3999999999999986,
          3,
          3.200000000000003,
          3.6000000000000014,
          3.8000000000000043,
          4.200000000000003,
          4.399999999999999,
          6,
          7,
          8.600000000000001,
          9.399999999999999,
          10.399999999999999,
          12,
          13,
          13.800000000000004,
          14.399999999999999,
          16,
          20.4,
          24.1,
          24.200000000000003,
          25.800000000000004,
          26.4,
          26.800000000000004,
          27.200000000000003,
          27.6,
          28,
          28.4,
          28.800000000000004,
          29.4,
          29.800000000000004,
          31.1,
          31.300000000000004,
          32.50000000000001,
          32.699999999999996,
          33.300000000000004,
          33.50000000000001,
          33.699999999999996,
          33.9,
          34.1,
          34.300000000000004,
          34.50000000000001,
          34.699999999999996,
          34.9,
          35.1,
          35.699999999999996,
          35.9,
          36.00000000000001,
          35.9,
          35.699999999999996,
          35.50000000000001,
          35.300000000000004,
          34.9,
          34.699999999999996,
          34.50000000000001,
          34.1,
          33.699999999999996,
          32.300000000000004,
          32.1,
          31.699999999999996,
          31.500000000000007,
          31.300000000000004,
          31.1,
          30.9,
          30.699999999999996,
          30.500000000000007,
          30.300000000000004,
          30.199999999999996,
          30.300000000000004,
          30.500000000000007,
          30.699999999999996,
          30.9,
          31.1,
          31.300000000000004,
          31.9,
          32.00000000000001,
          31.699999999999996,
          31.500000000000007,
          31.300000000000004,
          30.9,
          30.699999999999996,
          30.300000000000004,
          30.1,
          29.9,
          29.699999999999996,
          29.300000000000004,
          29.1,
          28.1,
          27.9,
          27.700000000000003,
          27.5,
          26.9,
          26.700000000000003,
          26.300000000000004,
          26.1,
          25.700000000000003,
          25.5,
          25.300000000000004,
          25.1,
          24.9,
          24.700000000000003,
          24.5,
          24.300000000000004,
          24.1,
          23.9,
          23.5,
          23.300000000000004,
          22.9,
          22.700000000000003,
          22.300000000000004,
          22.1,
          21.700000000000003,
          21.5,
          21.300000000000004,
          21.1,
          20.9,
          20.700000000000003,
          20.5,
          20.1,
          19.9,
          19.5,
          19.300000000000004,
          18.1,
          17.9,
          16.800000000000004,
          12.600000000000001,
          10,
          8.200000000000003,
          1,
          -2.6999999999999993,
          -2.8000000000000007,
          -7.800000000000001,
          -10.600000000000001,
          -12.399999999999999,
          -14.399999999999999,
          -15.399999999999999,
          -16.7,
          -16.900000000000002,
          -17.7,
          -17.900000000000002,
          -19.3,
          -19.5,
          -19.700000000000003,
          -19.9,
          -20.1,
          -20.3,
          -20.5,
          -20.700000000000003,
          -20.9,
          -21,
          -21.4,
          -21.5,
          -21.700000000000003,
          -21.9,
          -22.3,
          -22.5,
          -22.700000000000003,
          -22.9,
          -23.1,
          -23.3,
          -24.3,
          -24.5,
          -25.700000000000003,
          -25.9,
          -26.3,
          -26.5,
          -26.700000000000003,
          -26.900000000000002,
          -27.1,
          -27.3,
          -27.700000000000003,
          -27.900000000000002,
          -28.1,
          -28.3,
          -28.5,
          -28.900000000000002,
          -29.1,
          -29.3,
          -29.5,
          -29.700000000000003,
          -29.900000000000002,
          -30.1,
          -30.5,
          -30.700000000000003,
          -30.900000000000002,
          -31.1,
          -31.3,
          -31.5,
          -31.700000000000003,
          -31.900000000000002,
          -32.300000000000004,
          -32.5,
          -32.7,
          -32.9,
          -33.1,
          -33.2,
          -33.1,
          -32.7,
          -32.1,
          -31.900000000000002,
          -31.700000000000003,
          -31.5,
          -31.3,
          -31.1,
          -31,
          -31.1,
          -31.3,
          -31.5,
          -31.700000000000003,
          -31.900000000000002,
          -32.1,
          -32.5,
          -32.7,
          -32.9,
          -33.1,
          -33.300000000000004,
          -33.4,
          -33.300000000000004,
          -33.2,
          -33.300000000000004,
          -33.4,
          -33.300000000000004,
          -32.7,
          -32.300000000000004,
          -32.1,
          -31.700000000000003,
          -31.5,
          -31.3,
          -31.1,
          -30.900000000000002,
          -30.700000000000003,
          -30.5,
          -30.3,
          -29.900000000000002,
          -29.700000000000003,
          -29.5,
          -29.3,
          -29.1,
          -29,
          -28.6,
          -27.8,
          -27,
          -26,
          -25.200000000000003,
          -24.6,
          -24.200000000000003,
          -18
         ],
         "y": [
          42.2,
          42.1,
          41.900000000000006,
          41.7,
          41.300000000000004,
          39.2,
          38.800000000000004,
          38.300000000000004,
          38.1,
          37.900000000000006,
          37.7,
          37.300000000000004,
          37.1,
          37,
          37.1,
          37.5,
          37.7,
          37.900000000000006,
          38.1,
          38.300000000000004,
          38.5,
          38.900000000000006,
          39.1,
          39.300000000000004,
          39.5,
          39.7,
          40.1,
          40.300000000000004,
          40.5,
          40.7,
          41.5,
          41.900000000000006,
          42,
          41.900000000000006,
          41.7,
          41.5,
          41.1,
          40.900000000000006,
          40.5,
          40.300000000000004,
          39.900000000000006,
          39.7,
          39.1,
          38.900000000000006,
          37.6,
          37.2,
          36,
          35.6,
          35,
          34.6,
          34.400000000000006,
          34,
          33.800000000000004,
          33.400000000000006,
          33.2,
          32.800000000000004,
          32.6,
          29,
          27.200000000000003,
          26.400000000000002,
          26.3,
          26.200000000000003,
          25.8,
          25.200000000000003,
          24.400000000000002,
          23.200000000000003,
          22.8,
          22.200000000000003,
          21.400000000000002,
          20.200000000000003,
          17.400000000000002,
          17.200000000000003,
          16.400000000000002,
          16.200000000000003,
          15.8,
          15.600000000000001,
          15.200000000000003,
          15,
          14.600000000000001,
          14.400000000000002,
          10.700000000000003,
          10.600000000000001,
          10,
          9.200000000000003,
          8.600000000000001,
          6,
          4,
          2.200000000000003,
          -13.100000000000001,
          -13.399999999999999,
          -13.799999999999997,
          -14,
          -14.799999999999997,
          -15,
          -15.799999999999997,
          -16,
          -16.4,
          -16.6,
          -17.4,
          -17.6,
          -19.6,
          -20.200000000000003,
          -20.6,
          -21.400000000000006,
          -22.599999999999994,
          -22.799999999999997,
          -23.599999999999994,
          -23.799999999999997,
          -24.599999999999994,
          -24.799999999999997,
          -25.200000000000003,
          -25.400000000000006,
          -25.799999999999997,
          -26,
          -26.400000000000006,
          -26.599999999999994,
          -27,
          -27.200000000000003,
          -28,
          -28.200000000000003,
          -29,
          -29.200000000000003,
          -30,
          -30.200000000000003,
          -31,
          -31.200000000000003,
          -31.599999999999994,
          -31.799999999999997,
          -32.2,
          -32.400000000000006,
          -32.8,
          -33.2,
          -33.60000000000001,
          -34,
          -34.400000000000006,
          -35.60000000000001,
          -36,
          -37.10000000000001,
          -37.7,
          -37.900000000000006,
          -38.10000000000001,
          -38.3,
          -38.400000000000006,
          -38.3,
          -38.10000000000001,
          -37.900000000000006,
          -37.7,
          -37.5,
          -37.3,
          -37.2,
          -36.8,
          -36,
          -35.60000000000001,
          -34.2,
          -33.8,
          -33.60000000000001,
          -33.2,
          -33,
          -32.599999999999994,
          -32.400000000000006,
          -32,
          -31.799999999999997,
          -31.5,
          -31.299999999999997,
          -31.200000000000003,
          -30.799999999999997,
          -30.599999999999994,
          -29.799999999999997,
          -29.599999999999994,
          -29.200000000000003,
          -29,
          -28.599999999999994,
          -28.400000000000006,
          -26.400000000000006,
          -26.200000000000003,
          -23.799999999999997,
          -23.599999999999994,
          -22.799999999999997,
          -22.599999999999994,
          -22.200000000000003,
          -22,
          -21.599999999999994,
          -21.400000000000006,
          -20.6,
          -20.4,
          -20,
          -19.799999999999997,
          -19.4,
          -19,
          -18.6,
          -18.4,
          -18,
          -17.799999999999997,
          -17.4,
          -17.200000000000003,
          -16.4,
          -16.200000000000003,
          -15.799999999999997,
          -15.600000000000001,
          -15.200000000000003,
          -15,
          -14.600000000000001,
          -14.399999999999999,
          -13.600000000000001,
          -13.399999999999999,
          -13,
          -11.399999999999999,
          -8.200000000000003,
          -5.899999999999999,
          -5.799999999999997,
          2.6000000000000014,
          4.399999999999999,
          5.399999999999999,
          6,
          6.399999999999999,
          7,
          7.399999999999999,
          12.700000000000003,
          12.8,
          14.200000000000003,
          14.600000000000001,
          14.8,
          15.200000000000003,
          15.400000000000002,
          16.200000000000003,
          16.400000000000002,
          16.8,
          17,
          18.8,
          22.900000000000002,
          23,
          23.5,
          23.6,
          26.900000000000002,
          27.000000000000004,
          29.400000000000002,
          30.200000000000003,
          30.400000000000002,
          31.200000000000003,
          31.400000000000002,
          31.800000000000004,
          32,
          32.400000000000006,
          35.6,
          36,
          36.2,
          37,
          37.2,
          37.6,
          37.800000000000004,
          38.2,
          38.7,
          38.900000000000006,
          39.7,
          40.1,
          41.1,
          41.5,
          41.7,
          41.900000000000006,
          42
         ]
        }
       ],
       "layout": {
        "autosize": true,
        "template": {
         "data": {
          "candlestick": [
           {
            "decreasing": {
             "line": {
              "color": "#000033"
             }
            },
            "increasing": {
             "line": {
              "color": "#000032"
             }
            },
            "type": "candlestick"
           }
          ],
          "contour": [
           {
            "colorscale": [
             [
              0,
              "#000011"
             ],
             [
              0.1111111111111111,
              "#000012"
             ],
             [
              0.2222222222222222,
              "#000013"
             ],
             [
              0.3333333333333333,
              "#000014"
             ],
             [
              0.4444444444444444,
              "#000015"
             ],
             [
              0.5555555555555556,
              "#000016"
             ],
             [
              0.6666666666666666,
              "#000017"
             ],
             [
              0.7777777777777778,
              "#000018"
             ],
             [
              0.8888888888888888,
              "#000019"
             ],
             [
              1,
              "#000020"
             ]
            ],
            "type": "contour"
           }
          ],
          "contourcarpet": [
           {
            "colorscale": [
             [
              0,
              "#000011"
             ],
             [
              0.1111111111111111,
              "#000012"
             ],
             [
              0.2222222222222222,
              "#000013"
             ],
             [
              0.3333333333333333,
              "#000014"
             ],
             [
              0.4444444444444444,
              "#000015"
             ],
             [
              0.5555555555555556,
              "#000016"
             ],
             [
              0.6666666666666666,
              "#000017"
             ],
             [
              0.7777777777777778,
              "#000018"
             ],
             [
              0.8888888888888888,
              "#000019"
             ],
             [
              1,
              "#000020"
             ]
            ],
            "type": "contourcarpet"
           }
          ],
          "heatmap": [
           {
            "colorscale": [
             [
              0,
              "#000011"
             ],
             [
              0.1111111111111111,
              "#000012"
             ],
             [
              0.2222222222222222,
              "#000013"
             ],
             [
              0.3333333333333333,
              "#000014"
             ],
             [
              0.4444444444444444,
              "#000015"
             ],
             [
              0.5555555555555556,
              "#000016"
             ],
             [
              0.6666666666666666,
              "#000017"
             ],
             [
              0.7777777777777778,
              "#000018"
             ],
             [
              0.8888888888888888,
              "#000019"
             ],
             [
              1,
              "#000020"
             ]
            ],
            "type": "heatmap"
           }
          ],
          "histogram2d": [
           {
            "colorscale": [
             [
              0,
              "#000011"
             ],
             [
              0.1111111111111111,
              "#000012"
             ],
             [
              0.2222222222222222,
              "#000013"
             ],
             [
              0.3333333333333333,
              "#000014"
             ],
             [
              0.4444444444444444,
              "#000015"
             ],
             [
              0.5555555555555556,
              "#000016"
             ],
             [
              0.6666666666666666,
              "#000017"
             ],
             [
              0.7777777777777778,
              "#000018"
             ],
             [
              0.8888888888888888,
              "#000019"
             ],
             [
              1,
              "#000020"
             ]
            ],
            "type": "histogram2d"
           }
          ],
          "icicle": [
           {
            "textfont": {
             "color": "white"
            },
            "type": "icicle"
           }
          ],
          "sankey": [
           {
            "textfont": {
             "color": "#000036"
            },
            "type": "sankey"
           }
          ],
          "scatter": [
           {
            "marker": {
             "line": {
              "width": 0
             }
            },
            "type": "scatter"
           }
          ],
          "table": [
           {
            "cells": {
             "fill": {
              "color": "#000038"
             },
             "font": {
              "color": "#000037"
             },
             "line": {
              "color": "#000039"
             }
            },
            "header": {
             "fill": {
              "color": "#000040"
             },
             "font": {
              "color": "#000036"
             },
             "line": {
              "color": "#000039"
             }
            },
            "type": "table"
           }
          ],
          "waterfall": [
           {
            "connector": {
             "line": {
              "color": "#000036",
              "width": 2
             }
            },
            "decreasing": {
             "marker": {
              "color": "#000033"
             }
            },
            "increasing": {
             "marker": {
              "color": "#000032"
             }
            },
            "totals": {
             "marker": {
              "color": "#000034"
             }
            },
            "type": "waterfall"
           }
          ]
         },
         "layout": {
          "coloraxis": {
           "colorscale": [
            [
             0,
             "#000011"
            ],
            [
             0.1111111111111111,
             "#000012"
            ],
            [
             0.2222222222222222,
             "#000013"
            ],
            [
             0.3333333333333333,
             "#000014"
            ],
            [
             0.4444444444444444,
             "#000015"
            ],
            [
             0.5555555555555556,
             "#000016"
            ],
            [
             0.6666666666666666,
             "#000017"
            ],
            [
             0.7777777777777778,
             "#000018"
            ],
            [
             0.8888888888888888,
             "#000019"
            ],
            [
             1,
             "#000020"
            ]
           ]
          },
          "colorscale": {
           "diverging": [
            [
             0,
             "#000021"
            ],
            [
             0.1,
             "#000022"
            ],
            [
             0.2,
             "#000023"
            ],
            [
             0.3,
             "#000024"
            ],
            [
             0.4,
             "#000025"
            ],
            [
             0.5,
             "#000026"
            ],
            [
             0.6,
             "#000027"
            ],
            [
             0.7,
             "#000028"
            ],
            [
             0.8,
             "#000029"
            ],
            [
             0.9,
             "#000030"
            ],
            [
             1,
             "#000031"
            ]
           ],
           "sequential": [
            [
             0,
             "#000011"
            ],
            [
             0.1111111111111111,
             "#000012"
            ],
            [
             0.2222222222222222,
             "#000013"
            ],
            [
             0.3333333333333333,
             "#000014"
            ],
            [
             0.4444444444444444,
             "#000015"
            ],
            [
             0.5555555555555556,
             "#000016"
            ],
            [
             0.6666666666666666,
             "#000017"
            ],
            [
             0.7777777777777778,
             "#000018"
            ],
            [
             0.8888888888888888,
             "#000019"
            ],
            [
             1,
             "#000020"
            ]
           ],
           "sequentialminus": [
            [
             0,
             "#000011"
            ],
            [
             0.1111111111111111,
             "#000012"
            ],
            [
             0.2222222222222222,
             "#000013"
            ],
            [
             0.3333333333333333,
             "#000014"
            ],
            [
             0.4444444444444444,
             "#000015"
            ],
            [
             0.5555555555555556,
             "#000016"
            ],
            [
             0.6666666666666666,
             "#000017"
            ],
            [
             0.7777777777777778,
             "#000018"
            ],
            [
             0.8888888888888888,
             "#000019"
            ],
            [
             1,
             "#000020"
            ]
           ]
          },
          "colorway": [
           "#000001",
           "#000002",
           "#000003",
           "#000004",
           "#000005",
           "#000006",
           "#000007",
           "#000008",
           "#000009",
           "#000010"
          ]
         }
        },
        "xaxis": {
         "autorange": true,
         "range": [
          -33.4,
          36.00000000000001
         ],
         "type": "linear"
        },
        "yaxis": {
         "autorange": true,
         "range": [
          -42.87777777777778,
          46.67777777777778
         ],
         "type": "linear"
        }
       }
      },
      "image/png": "[encoded data removed]",
      "text/html": [
       "<div>                            <div id=\"00fbb2d6-a5be-4422-9ea7-7a3c12a19deb\" class=\"plotly-graph-div\" style=\"height:525px; width:100%;\"></div>            <script type=\"text/javascript\">                require([\"plotly\"], function(Plotly) {                    window.PLOTLYENV=window.PLOTLYENV || {};                                    if (document.getElementById(\"00fbb2d6-a5be-4422-9ea7-7a3c12a19deb\")) {                    Plotly.newPlot(                        \"00fbb2d6-a5be-4422-9ea7-7a3c12a19deb\",                        [{\"line\":{\"color\":\"#FF0000\"},\"mode\":\"lines\",\"name\":\"PTV\",\"x\":[-18.0,-11.8,-9.399999999999999,-5.800000000000001,-3.8000000000000007,-1.7000000000000028,-1.5,-1.0,-0.6000000000000014,-0.3999999999999986,0.0,0.3999999999999986,0.7999999999999972,1.2999999999999972,1.3999999999999986,3.0,3.200000000000003,3.6000000000000014,3.8000000000000043,4.200000000000003,4.399999999999999,6.0,7.0,8.600000000000001,9.399999999999999,10.399999999999999,12.0,13.0,13.800000000000004,14.399999999999999,16.0,20.4,24.1,24.200000000000003,25.800000000000004,26.4,26.800000000000004,27.200000000000003,27.6,28.0,28.4,28.800000000000004,29.4,29.800000000000004,31.1,31.300000000000004,32.50000000000001,32.699999999999996,33.300000000000004,33.50000000000001,33.699999999999996,33.9,34.1,34.300000000000004,34.50000000000001,34.699999999999996,34.9,35.1,35.699999999999996,35.9,36.00000000000001,35.9,35.699999999999996,35.50000000000001,35.300000000000004,34.9,34.699999999999996,34.50000000000001,34.1,33.699999999999996,32.300000000000004,32.1,31.699999999999996,31.500000000000007,31.300000000000004,31.1,30.9,30.699999999999996,30.500000000000007,30.300000000000004,30.199999999999996,30.300000000000004,30.500000000000007,30.699999999999996,30.9,31.1,31.300000000000004,31.9,32.00000000000001,31.699999999999996,31.500000000000007,31.300000000000004,30.9,30.699999999999996,30.300000000000004,30.1,29.9,29.699999999999996,29.300000000000004,29.1,28.1,27.9,27.700000000000003,27.5,26.9,26.700000000000003,26.300000000000004,26.1,25.700000000000003,25.5,25.300000000000004,25.1,24.9,24.700000000000003,24.5,24.300000000000004,24.1,23.9,23.5,23.300000000000004,22.9,22.700000000000003,22.300000000000004,22.1,21.700000000000003,21.5,21.300000000000004,21.1,20.9,20.700000000000003,20.5,20.1,19.9,19.5,19.300000000000004,18.1,17.9,16.800000000000004,12.600000000000001,10.0,8.200000000000003,1.0,-2.6999999999999993,-2.8000000000000007,-7.800000000000001,-10.600000000000001,-12.399999999999999,-14.399999999999999,-15.399999999999999,-16.7,-16.900000000000002,-17.7,-17.900000000000002,-19.3,-19.5,-19.700000000000003,-19.9,-20.1,-20.3,-20.5,-20.700000000000003,-20.9,-21.0,-21.4,-21.5,-21.700000000000003,-21.9,-22.3,-22.5,-22.700000000000003,-22.9,-23.1,-23.3,-24.3,-24.5,-25.700000000000003,-25.9,-26.3,-26.5,-26.700000000000003,-26.900000000000002,-27.1,-27.3,-27.700000000000003,-27.900000000000002,-28.1,-28.3,-28.5,-28.900000000000002,-29.1,-29.3,-29.5,-29.700000000000003,-29.900000000000002,-30.1,-30.5,-30.700000000000003,-30.900000000000002,-31.1,-31.3,-31.5,-31.700000000000003,-31.900000000000002,-32.300000000000004,-32.5,-32.7,-32.9,-33.1,-33.2,-33.1,-32.7,-32.1,-31.900000000000002,-31.700000000000003,-31.5,-31.3,-31.1,-31.0,-31.1,-31.3,-31.5,-31.700000000000003,-31.900000000000002,-32.1,-32.5,-32.7,-32.9,-33.1,-33.300000000000004,-33.4,-33.300000000000004,-33.2,-33.300000000000004,-33.4,-33.300000000000004,-32.7,-32.300000000000004,-32.1,-31.700000000000003,-31.5,-31.3,-31.1,-30.900000000000002,-30.700000000000003,-30.5,-30.3,-29.900000000000002,-29.700000000000003,-29.5,-29.3,-29.1,-29.0,-28.6,-27.8,-27.0,-26.0,-25.200000000000003,-24.6,-24.200000000000003,-18.0],\"y\":[42.2,42.1,41.900000000000006,41.7,41.300000000000004,39.2,38.800000000000004,38.300000000000004,38.1,37.900000000000006,37.7,37.300000000000004,37.1,37.0,37.1,37.5,37.7,37.900000000000006,38.1,38.300000000000004,38.5,38.900000000000006,39.1,39.300000000000004,39.5,39.7,40.1,40.300000000000004,40.5,40.7,41.5,41.900000000000006,42.0,41.900000000000006,41.7,41.5,41.1,40.900000000000006,40.5,40.300000000000004,39.900000000000006,39.7,39.1,38.900000000000006,37.6,37.2,36.0,35.6,35.0,34.6,34.400000000000006,34.0,33.800000000000004,33.400000000000006,33.2,32.800000000000004,32.6,29.0,27.200000000000003,26.400000000000002,26.3,26.200000000000003,25.8,25.200000000000003,24.400000000000002,23.200000000000003,22.8,22.200000000000003,21.400000000000002,20.200000000000003,17.400000000000002,17.200000000000003,16.400000000000002,16.200000000000003,15.8,15.600000000000001,15.200000000000003,15.0,14.600000000000001,14.400000000000002,10.700000000000003,10.600000000000001,10.0,9.200000000000003,8.600000000000001,6.0,4.0,2.200000000000003,-13.100000000000001,-13.399999999999999,-13.799999999999997,-14.0,-14.799999999999997,-15.0,-15.799999999999997,-16.0,-16.4,-16.6,-17.4,-17.6,-19.6,-20.200000000000003,-20.6,-21.400000000000006,-22.599999999999994,-22.799999999999997,-23.599999999999994,-23.799999999999997,-24.599999999999994,-24.799999999999997,-25.200000000000003,-25.400000000000006,-25.799999999999997,-26.0,-26.400000000000006,-26.599999999999994,-27.0,-27.200000000000003,-28.0,-28.200000000000003,-29.0,-29.200000000000003,-30.0,-30.200000000000003,-31.0,-31.200000000000003,-31.599999999999994,-31.799999999999997,-32.2,-32.400000000000006,-32.8,-33.2,-33.60000000000001,-34.0,-34.400000000000006,-35.60000000000001,-36.0,-37.10000000000001,-37.7,-37.900000000000006,-38.10000000000001,-38.3,-38.400000000000006,-38.3,-38.10000000000001,-37.900000000000006,-37.7,-37.5,-37.3,-37.2,-36.8,-36.0,-35.60000000000001,-34.2,-33.8,-33.60000000000001,-33.2,-33.0,-32.599999999999994,-32.400000000000006,-32.0,-31.799999999999997,-31.5,-31.299999999999997,-31.200000000000003,-30.799999999999997,-30.599999999999994,-29.799999999999997,-29.599999999999994,-29.200000000000003,-29.0,-28.599999999999994,-28.400000000000006,-26.400000000000006,-26.200000000000003,-23.799999999999997,-23.599999999999994,-22.799999999999997,-22.599999999999994,-22.200000000000003,-22.0,-21.599999999999994,-21.400000000000006,-20.6,-20.4,-20.0,-19.799999999999997,-19.4,-19.0,-18.6,-18.4,-18.0,-17.799999999999997,-17.4,-17.200000000000003,-16.4,-16.200000000000003,-15.799999999999997,-15.600000000000001,-15.200000000000003,-15.0,-14.600000000000001,-14.399999999999999,-13.600000000000001,-13.399999999999999,-13.0,-11.399999999999999,-8.200000000000003,-5.899999999999999,-5.799999999999997,2.6000000000000014,4.399999999999999,5.399999999999999,6.0,6.399999999999999,7.0,7.399999999999999,12.700000000000003,12.8,14.200000000000003,14.600000000000001,14.8,15.200000000000003,15.400000000000002,16.200000000000003,16.400000000000002,16.8,17.0,18.8,22.900000000000002,23.0,23.5,23.6,26.900000000000002,27.000000000000004,29.400000000000002,30.200000000000003,30.400000000000002,31.200000000000003,31.400000000000002,31.800000000000004,32.0,32.400000000000006,35.6,36.0,36.2,37.0,37.2,37.6,37.800000000000004,38.2,38.7,38.900000000000006,39.7,40.1,41.1,41.5,41.7,41.900000000000006,42.0],\"type\":\"scatter\"}],                        {\"template\":{\"data\":{\"candlestick\":[{\"decreasing\":{\"line\":{\"color\":\"#000033\"}},\"increasing\":{\"line\":{\"color\":\"#000032\"}},\"type\":\"candlestick\"}],\"contourcarpet\":[{\"colorscale\":[[0.0,\"#000011\"],[0.1111111111111111,\"#000012\"],[0.2222222222222222,\"#000013\"],[0.3333333333333333,\"#000014\"],[0.4444444444444444,\"#000015\"],[0.5555555555555556,\"#000016\"],[0.6666666666666666,\"#000017\"],[0.7777777777777778,\"#000018\"],[0.8888888888888888,\"#000019\"],[1.0,\"#000020\"]],\"type\":\"contourcarpet\"}],\"contour\":[{\"colorscale\":[[0.0,\"#000011\"],[0.1111111111111111,\"#000012\"],[0.2222222222222222,\"#000013\"],[0.3333333333333333,\"#000014\"],[0.4444444444444444,\"#000015\"],[0.5555555555555556,\"#000016\"],[0.6666666666666666,\"#000017\"],[0.7777777777777778,\"#000018\"],[0.8888888888888888,\"#000019\"],[1.0,\"#000020\"]],\"type\":\"contour\"}],\"heatmap\":[{\"colorscale\":[[0.0,\"#000011\"],[0.1111111111111111,\"#000012\"],[0.2222222222222222,\"#000013\"],[0.3333333333333333,\"#000014\"],[0.4444444444444444,\"#000015\"],[0.5555555555555556,\"#000016\"],[0.6666666666666666,\"#000017\"],[0.7777777777777778,\"#000018\"],[0.8888888888888888,\"#000019\"],[1.0,\"#000020\"]],\"type\":\"heatmap\"}],\"histogram2d\":[{\"colorscale\":[[0.0,\"#000011\"],[0.1111111111111111,\"#000012\"],[0.2222222222222222,\"#000013\"],[0.3333333333333333,\"#000014\"],[0.4444444444444444,\"#000015\"],[0.5555555555555556,\"#000016\"],[0.6666666666666666,\"#000017\"],[0.7777777777777778,\"#000018\"],[0.8888888888888888,\"#000019\"],[1.0,\"#000020\"]],\"type\":\"histogram2d\"}],\"icicle\":[{\"textfont\":{\"color\":\"white\"},\"type\":\"icicle\"}],\"sankey\":[{\"textfont\":{\"color\":\"#000036\"},\"type\":\"sankey\"}],\"scatter\":[{\"marker\":{\"line\":{\"width\":0}},\"type\":\"scatter\"}],\"table\":[{\"cells\":{\"fill\":{\"color\":\"#000038\"},\"font\":{\"color\":\"#000037\"},\"line\":{\"color\":\"#000039\"}},\"header\":{\"fill\":{\"color\":\"#000040\"},\"font\":{\"color\":\"#000036\"},\"line\":{\"color\":\"#000039\"}},\"type\":\"table\"}],\"waterfall\":[{\"connector\":{\"line\":{\"color\":\"#000036\",\"width\":2}},\"decreasing\":{\"marker\":{\"color\":\"#000033\"}},\"increasing\":{\"marker\":{\"color\":\"#000032\"}},\"totals\":{\"marker\":{\"color\":\"#000034\"}},\"type\":\"waterfall\"}]},\"layout\":{\"coloraxis\":{\"colorscale\":[[0.0,\"#000011\"],[0.1111111111111111,\"#000012\"],[0.2222222222222222,\"#000013\"],[0.3333333333333333,\"#000014\"],[0.4444444444444444,\"#000015\"],[0.5555555555555556,\"#000016\"],[0.6666666666666666,\"#000017\"],[0.7777777777777778,\"#000018\"],[0.8888888888888888,\"#000019\"],[1.0,\"#000020\"]]},\"colorscale\":{\"diverging\":[[0.0,\"#000021\"],[0.1,\"#000022\"],[0.2,\"#000023\"],[0.3,\"#000024\"],[0.4,\"#000025\"],[0.5,\"#000026\"],[0.6,\"#000027\"],[0.7,\"#000028\"],[0.8,\"#000029\"],[0.9,\"#000030\"],[1.0,\"#000031\"]],\"sequential\":[[0.0,\"#000011\"],[0.1111111111111111,\"#000012\"],[0.2222222222222222,\"#000013\"],[0.3333333333333333,\"#000014\"],[0.4444444444444444,\"#000015\"],[0.5555555555555556,\"#000016\"],[0.6666666666666666,\"#000017\"],[0.7777777777777778,\"#000018\"],[0.8888888888888888,\"#000019\"],[1.0,\"#000020\"]],\"sequentialminus\":[[0.0,\"#000011\"],[0.1111111111111111,\"#000012\"],[0.2222222222222222,\"#000013\"],[0.3333333333333333,\"#000014\"],[0.4444444444444444,\"#000015\"],[0.5555555555555556,\"#000016\"],[0.6666666666666666,\"#000017\"],[0.7777777777777778,\"#000018\"],[0.8888888888888888,\"#000019\"],[1.0,\"#000020\"]]},\"colorway\":[\"#000001\",\"#000002\",\"#000003\",\"#000004\",\"#000005\",\"#000006\",\"#000007\",\"#000008\",\"#000009\",\"#000010\"]}}},                        {\"responsive\": true}                    ).then(function(){\n",
       "                            \n",
       "var gd = document.getElementById('00fbb2d6-a5be-4422-9ea7-7a3c12a19deb');\n",
       "var x = new MutationObserver(function (mutations, observer) {{\n",
       "        var display = window.getComputedStyle(gd).display;\n",
       "        if (!display || display === 'none') {{\n",
       "            console.log([gd, 'removed!']);\n",
       "            Plotly.purge(gd);\n",
       "            observer.disconnect();\n",
       "        }}\n",
       "}});\n",
       "\n",
       "// Listen for the removal of the full notebook cells\n",
       "var notebookContainer = gd.closest('#notebook-container');\n",
       "if (notebookContainer) {{\n",
       "    x.observe(notebookContainer, {childList: true});\n",
       "}}\n",
       "\n",
       "// Listen for the clearing of the current output cell\n",
       "var outputEl = gd.closest('.output');\n",
       "if (outputEl) {{\n",
       "    x.observe(outputEl, {childList: true});\n",
       "}}\n",
       "\n",
       "                        })                };                });            </script>        </div>"
      ]
     },
     "metadata": {},
     "output_type": "display_data"
    },
    {
     "data": {
      "text/markdown": [
       "### Field 2"
      ],
      "text/plain": [
       "<IPython.core.display.Markdown object>"
      ]
     },
     "metadata": {},
     "output_type": "display_data"
    },
    {
     "data": {
      "application/vnd.plotly.v1+json": {
       "config": {
        "linkText": "Export to plot.ly",
        "plotlyServerURL": "https://plot.ly",
        "showLink": false
       },
       "data": [
        {
         "line": {
          "color": "#FF0000"
         },
         "mode": "lines",
         "name": "PTV",
         "type": "scatter",
         "x": [
          -17.8,
          -11.2,
          -8.799999999999997,
          -5.399999999999999,
          -3.3999999999999986,
          -3.299999999999997,
          -3.099999999999998,
          -0.3999999999999986,
          0,
          0.20000000000000284,
          1,
          1.2000000000000028,
          1.7000000000000028,
          1.8000000000000043,
          3.3999999999999986,
          3.6000000000000014,
          4,
          4.200000000000003,
          5,
          5.600000000000001,
          6.400000000000006,
          7.400000000000006,
          9,
          10,
          11.600000000000001,
          12.600000000000001,
          13.400000000000006,
          14.400000000000006,
          15.200000000000003,
          15.800000000000004,
          16.6,
          21,
          24.1,
          24.200000000000003,
          26,
          26.800000000000004,
          27.200000000000003,
          27.6,
          28.200000000000003,
          28.6,
          29,
          29.400000000000006,
          30,
          30.400000000000006,
          31.10000000000001,
          31.299999999999997,
          32.3,
          32.5,
          33.5,
          33.7,
          33.900000000000006,
          34.10000000000001,
          34.3,
          34.5,
          34.7,
          34.900000000000006,
          35.3,
          35.5,
          35.900000000000006,
          36.3,
          36.400000000000006,
          36.3,
          35.900000000000006,
          35.7,
          35.3,
          35.10000000000001,
          34.900000000000006,
          34.7,
          34.5,
          34.3,
          33.7,
          33.5,
          32.7,
          32.5,
          32.3,
          31.900000000000006,
          31.5,
          31.299999999999997,
          30.900000000000006,
          30.700000000000003,
          30.60000000000001,
          30.700000000000003,
          30.900000000000006,
          31.10000000000001,
          31.299999999999997,
          31.5,
          31.700000000000003,
          31.900000000000006,
          32.10000000000001,
          32.2,
          32.10000000000001,
          31.700000000000003,
          31.5,
          31.299999999999997,
          31.10000000000001,
          30.900000000000006,
          30.700000000000003,
          30.299999999999997,
          30.10000000000001,
          29.900000000000006,
          29.700000000000003,
          27.700000000000003,
          27.5,
          27.300000000000004,
          27.1,
          26.700000000000003,
          26.5,
          26.300000000000004,
          26.1,
          25.700000000000003,
          25.5,
          25.300000000000004,
          25.1,
          24.700000000000003,
          24.5,
          24.300000000000004,
          24.1,
          23.700000000000003,
          23.5,
          23.300000000000004,
          23.1,
          22.900000000000006,
          22.700000000000003,
          22.5,
          22.300000000000004,
          21.700000000000003,
          21.300000000000004,
          21.1,
          20.700000000000003,
          20.5,
          20.1,
          19.900000000000006,
          19.300000000000004,
          19.1,
          18.300000000000004,
          18.1,
          17.700000000000003,
          17.5,
          17.300000000000004,
          17.200000000000003,
          16.800000000000004,
          12.600000000000001,
          9.800000000000004,
          8,
          0.6000000000000014,
          -2.8999999999999986,
          -3,
          -8.2,
          -10.599999999999998,
          -12.399999999999999,
          -14.399999999999999,
          -15.399999999999999,
          -16.599999999999998,
          -17.7,
          -17.9,
          -19.7,
          -19.9,
          -20.1,
          -20.5,
          -20.7,
          -21.1,
          -21.7,
          -22.1,
          -22.299999999999997,
          -22.5,
          -22.7,
          -22.9,
          -23.1,
          -23.9,
          -24.1,
          -24.9,
          -25.1,
          -25.299999999999997,
          -25.5,
          -25.9,
          -26.1,
          -26.3,
          -26.5,
          -26.9,
          -27.1,
          -27.3,
          -27.5,
          -27.7,
          -27.9,
          -28.3,
          -28.5,
          -28.7,
          -28.9,
          -29.3,
          -29.5,
          -29.7,
          -29.9,
          -30.3,
          -30.5,
          -30.7,
          -30.9,
          -31.1,
          -31.3,
          -31.7,
          -31.9,
          -32.1,
          -32.3,
          -32.5,
          -32.7,
          -32.8,
          -32.7,
          -32.5,
          -31.9,
          -31.7,
          -31.5,
          -30.9,
          -30.8,
          -30.9,
          -31.3,
          -31.5,
          -31.9,
          -32.1,
          -32.3,
          -32.5,
          -32.7,
          -32.8,
          -32.7,
          -32.1,
          -31.7,
          -31.5,
          -31.1,
          -30.9,
          -30.7,
          -30.5,
          -30.3,
          -30.1,
          -29.9,
          -29.5,
          -29.3,
          -29.1,
          -28.9,
          -28.7,
          -28.5,
          -28.3,
          -28.2,
          -27.8,
          -27.2,
          -26.8,
          -25.799999999999997,
          -25.4,
          -25.2,
          -24.799999999999997,
          -24.2,
          -23.799999999999997,
          -17.8
         ],
         "y": [
          42.2,
          42.1,
          41.900000000000006,
          41.7,
          41.300000000000004,
          41.2,
          40.800000000000004,
          38.1,
          37.900000000000006,
          37.7,
          37.300000000000004,
          37.1,
          37,
          37.1,
          37.5,
          37.7,
          37.900000000000006,
          38.1,
          38.5,
          38.7,
          38.900000000000006,
          39.1,
          39.300000000000004,
          39.5,
          39.900000000000006,
          40.1,
          40.300000000000004,
          40.5,
          40.900000000000006,
          41.1,
          41.5,
          41.900000000000006,
          42,
          41.900000000000006,
          41.7,
          41.5,
          41.1,
          40.900000000000006,
          40.300000000000004,
          40.1,
          39.7,
          39.5,
          38.900000000000006,
          38.7,
          38,
          37.6,
          36.6,
          36.2,
          35.2,
          34.800000000000004,
          34.6,
          34.2,
          34,
          33.6,
          33.400000000000006,
          33,
          32.6,
          28.800000000000004,
          27.6,
          26.8,
          26.3,
          26.200000000000003,
          25.000000000000004,
          24.200000000000003,
          23,
          22.6,
          22,
          21.6,
          20.8,
          20.200000000000003,
          19,
          18.8,
          17.200000000000003,
          17,
          16.6,
          16.200000000000003,
          15.400000000000002,
          15.200000000000003,
          14.400000000000002,
          14.200000000000003,
          9.899999999999999,
          9.800000000000004,
          9,
          8.399999999999999,
          6.800000000000004,
          4.799999999999997,
          3.6000000000000014,
          3,
          2.6000000000000014,
          -12.899999999999999,
          -13,
          -13.799999999999997,
          -14,
          -14.399999999999999,
          -14.600000000000001,
          -15,
          -15.200000000000003,
          -16,
          -16.200000000000003,
          -16.6,
          -16.799999999999997,
          -20.799999999999997,
          -21.599999999999994,
          -22,
          -22.200000000000003,
          -23,
          -23.200000000000003,
          -23.599999999999994,
          -23.799999999999997,
          -24.599999999999994,
          -24.799999999999997,
          -25.200000000000003,
          -25.400000000000006,
          -26.200000000000003,
          -26.400000000000006,
          -26.799999999999997,
          -27,
          -27.799999999999997,
          -28,
          -28.400000000000006,
          -28.599999999999994,
          -29,
          -29.200000000000003,
          -29.599999999999994,
          -29.799999999999997,
          -31,
          -31.400000000000006,
          -31.799999999999997,
          -32.2,
          -32.599999999999994,
          -33,
          -33.400000000000006,
          -34,
          -34.400000000000006,
          -35.2,
          -35.60000000000001,
          -36,
          -36.400000000000006,
          -36.60000000000001,
          -36.900000000000006,
          -37.10000000000001,
          -37.7,
          -37.900000000000006,
          -38.10000000000001,
          -38.3,
          -38.400000000000006,
          -38.3,
          -38.10000000000001,
          -37.900000000000006,
          -37.7,
          -37.5,
          -37.3,
          -37.10000000000001,
          -36,
          -35.60000000000001,
          -33.8,
          -33.400000000000006,
          -33.2,
          -32.400000000000006,
          -32.2,
          -31.400000000000006,
          -30.799999999999997,
          -30,
          -29.799999999999997,
          -29.400000000000006,
          -29.200000000000003,
          -28.799999999999997,
          -28.599999999999994,
          -27,
          -26.799999999999997,
          -25.200000000000003,
          -25,
          -24.599999999999994,
          -24.400000000000006,
          -23.599999999999994,
          -23.400000000000006,
          -23,
          -22.799999999999997,
          -22,
          -21.799999999999997,
          -21.400000000000006,
          -21.200000000000003,
          -20.799999999999997,
          -20.6,
          -19.799999999999997,
          -19.6,
          -19.200000000000003,
          -19,
          -18.200000000000003,
          -18,
          -17.6,
          -17.4,
          -16.6,
          -16.4,
          -16,
          -15.799999999999997,
          -15.399999999999999,
          -15.200000000000003,
          -14.399999999999999,
          -14.200000000000003,
          -13.799999999999997,
          -13.600000000000001,
          -13.200000000000003,
          -11.399999999999999,
          1.8999999999999986,
          2,
          3,
          4.799999999999997,
          5.600000000000001,
          6,
          7.800000000000004,
          14.100000000000001,
          14.200000000000003,
          15,
          15.200000000000003,
          16,
          16.200000000000003,
          16.6,
          16.8,
          17.200000000000003,
          26.900000000000002,
          27.000000000000004,
          29.400000000000002,
          30.200000000000003,
          30.400000000000002,
          31.200000000000003,
          31.400000000000002,
          31.800000000000004,
          32,
          32.400000000000006,
          35.800000000000004,
          36,
          36.800000000000004,
          37,
          37.400000000000006,
          37.6,
          38,
          38.2,
          38.800000000000004,
          38.900000000000006,
          39.1,
          39.7,
          39.900000000000006,
          40.900000000000006,
          41.1,
          41.300000000000004,
          41.5,
          41.7,
          41.900000000000006,
          42
         ]
        }
       ],
       "layout": {
        "autosize": true,
        "template": {
         "data": {
          "candlestick": [
           {
            "decreasing": {
             "line": {
              "color": "#000033"
             }
            },
            "increasing": {
             "line": {
              "color": "#000032"
             }
            },
            "type": "candlestick"
           }
          ],
          "contour": [
           {
            "colorscale": [
             [
              0,
              "#000011"
             ],
             [
              0.1111111111111111,
              "#000012"
             ],
             [
              0.2222222222222222,
              "#000013"
             ],
             [
              0.3333333333333333,
              "#000014"
             ],
             [
              0.4444444444444444,
              "#000015"
             ],
             [
              0.5555555555555556,
              "#000016"
             ],
             [
              0.6666666666666666,
              "#000017"
             ],
             [
              0.7777777777777778,
              "#000018"
             ],
             [
              0.8888888888888888,
              "#000019"
             ],
             [
              1,
              "#000020"
             ]
            ],
            "type": "contour"
           }
          ],
          "contourcarpet": [
           {
            "colorscale": [
             [
              0,
              "#000011"
             ],
             [
              0.1111111111111111,
              "#000012"
             ],
             [
              0.2222222222222222,
              "#000013"
             ],
             [
              0.3333333333333333,
              "#000014"
             ],
             [
              0.4444444444444444,
              "#000015"
             ],
             [
              0.5555555555555556,
              "#000016"
             ],
             [
              0.6666666666666666,
              "#000017"
             ],
             [
              0.7777777777777778,
              "#000018"
             ],
             [
              0.8888888888888888,
              "#000019"
             ],
             [
              1,
              "#000020"
             ]
            ],
            "type": "contourcarpet"
           }
          ],
          "heatmap": [
           {
            "colorscale": [
             [
              0,
              "#000011"
             ],
             [
              0.1111111111111111,
              "#000012"
             ],
             [
              0.2222222222222222,
              "#000013"
             ],
             [
              0.3333333333333333,
              "#000014"
             ],
             [
              0.4444444444444444,
              "#000015"
             ],
             [
              0.5555555555555556,
              "#000016"
             ],
             [
              0.6666666666666666,
              "#000017"
             ],
             [
              0.7777777777777778,
              "#000018"
             ],
             [
              0.8888888888888888,
              "#000019"
             ],
             [
              1,
              "#000020"
             ]
            ],
            "type": "heatmap"
           }
          ],
          "histogram2d": [
           {
            "colorscale": [
             [
              0,
              "#000011"
             ],
             [
              0.1111111111111111,
              "#000012"
             ],
             [
              0.2222222222222222,
              "#000013"
             ],
             [
              0.3333333333333333,
              "#000014"
             ],
             [
              0.4444444444444444,
              "#000015"
             ],
             [
              0.5555555555555556,
              "#000016"
             ],
             [
              0.6666666666666666,
              "#000017"
             ],
             [
              0.7777777777777778,
              "#000018"
             ],
             [
              0.8888888888888888,
              "#000019"
             ],
             [
              1,
              "#000020"
             ]
            ],
            "type": "histogram2d"
           }
          ],
          "icicle": [
           {
            "textfont": {
             "color": "white"
            },
            "type": "icicle"
           }
          ],
          "sankey": [
           {
            "textfont": {
             "color": "#000036"
            },
            "type": "sankey"
           }
          ],
          "scatter": [
           {
            "marker": {
             "line": {
              "width": 0
             }
            },
            "type": "scatter"
           }
          ],
          "table": [
           {
            "cells": {
             "fill": {
              "color": "#000038"
             },
             "font": {
              "color": "#000037"
             },
             "line": {
              "color": "#000039"
             }
            },
            "header": {
             "fill": {
              "color": "#000040"
             },
             "font": {
              "color": "#000036"
             },
             "line": {
              "color": "#000039"
             }
            },
            "type": "table"
           }
          ],
          "waterfall": [
           {
            "connector": {
             "line": {
              "color": "#000036",
              "width": 2
             }
            },
            "decreasing": {
             "marker": {
              "color": "#000033"
             }
            },
            "increasing": {
             "marker": {
              "color": "#000032"
             }
            },
            "totals": {
             "marker": {
              "color": "#000034"
             }
            },
            "type": "waterfall"
           }
          ]
         },
         "layout": {
          "coloraxis": {
           "colorscale": [
            [
             0,
             "#000011"
            ],
            [
             0.1111111111111111,
             "#000012"
            ],
            [
             0.2222222222222222,
             "#000013"
            ],
            [
             0.3333333333333333,
             "#000014"
            ],
            [
             0.4444444444444444,
             "#000015"
            ],
            [
             0.5555555555555556,
             "#000016"
            ],
            [
             0.6666666666666666,
             "#000017"
            ],
            [
             0.7777777777777778,
             "#000018"
            ],
            [
             0.8888888888888888,
             "#000019"
            ],
            [
             1,
             "#000020"
            ]
           ]
          },
          "colorscale": {
           "diverging": [
            [
             0,
             "#000021"
            ],
            [
             0.1,
             "#000022"
            ],
            [
             0.2,
             "#000023"
            ],
            [
             0.3,
             "#000024"
            ],
            [
             0.4,
             "#000025"
            ],
            [
             0.5,
             "#000026"
            ],
            [
             0.6,
             "#000027"
            ],
            [
             0.7,
             "#000028"
            ],
            [
             0.8,
             "#000029"
            ],
            [
             0.9,
             "#000030"
            ],
            [
             1,
             "#000031"
            ]
           ],
           "sequential": [
            [
             0,
             "#000011"
            ],
            [
             0.1111111111111111,
             "#000012"
            ],
            [
             0.2222222222222222,
             "#000013"
            ],
            [
             0.3333333333333333,
             "#000014"
            ],
            [
             0.4444444444444444,
             "#000015"
            ],
            [
             0.5555555555555556,
             "#000016"
            ],
            [
             0.6666666666666666,
             "#000017"
            ],
            [
             0.7777777777777778,
             "#000018"
            ],
            [
             0.8888888888888888,
             "#000019"
            ],
            [
             1,
             "#000020"
            ]
           ],
           "sequentialminus": [
            [
             0,
             "#000011"
            ],
            [
             0.1111111111111111,
             "#000012"
            ],
            [
             0.2222222222222222,
             "#000013"
            ],
            [
             0.3333333333333333,
             "#000014"
            ],
            [
             0.4444444444444444,
             "#000015"
            ],
            [
             0.5555555555555556,
             "#000016"
            ],
            [
             0.6666666666666666,
             "#000017"
            ],
            [
             0.7777777777777778,
             "#000018"
            ],
            [
             0.8888888888888888,
             "#000019"
            ],
            [
             1,
             "#000020"
            ]
           ]
          },
          "colorway": [
           "#000001",
           "#000002",
           "#000003",
           "#000004",
           "#000005",
           "#000006",
           "#000007",
           "#000008",
           "#000009",
           "#000010"
          ]
         }
        },
        "xaxis": {
         "autorange": true,
         "range": [
          -32.8,
          36.400000000000006
         ],
         "type": "linear"
        },
        "yaxis": {
         "autorange": true,
         "range": [
          -42.87777777777778,
          46.67777777777778
         ],
         "type": "linear"
        }
       }
      },
      "image/png": "[encoded data removed]",
      "text/html": [
       "<div>                            <div id=\"a65098ec-2916-44ea-9edc-6c3cafd622d5\" class=\"plotly-graph-div\" style=\"height:525px; width:100%;\"></div>            <script type=\"text/javascript\">                require([\"plotly\"], function(Plotly) {                    window.PLOTLYENV=window.PLOTLYENV || {};                                    if (document.getElementById(\"a65098ec-2916-44ea-9edc-6c3cafd622d5\")) {                    Plotly.newPlot(                        \"a65098ec-2916-44ea-9edc-6c3cafd622d5\",                        [{\"line\":{\"color\":\"#FF0000\"},\"mode\":\"lines\",\"name\":\"PTV\",\"x\":[-17.8,-11.2,-8.799999999999997,-5.399999999999999,-3.3999999999999986,-3.299999999999997,-3.099999999999998,-0.3999999999999986,0.0,0.20000000000000284,1.0,1.2000000000000028,1.7000000000000028,1.8000000000000043,3.3999999999999986,3.6000000000000014,4.0,4.200000000000003,5.0,5.600000000000001,6.400000000000006,7.400000000000006,9.0,10.0,11.600000000000001,12.600000000000001,13.400000000000006,14.400000000000006,15.200000000000003,15.800000000000004,16.6,21.0,24.1,24.200000000000003,26.0,26.800000000000004,27.200000000000003,27.6,28.200000000000003,28.6,29.0,29.400000000000006,30.0,30.400000000000006,31.10000000000001,31.299999999999997,32.3,32.5,33.5,33.7,33.900000000000006,34.10000000000001,34.3,34.5,34.7,34.900000000000006,35.3,35.5,35.900000000000006,36.3,36.400000000000006,36.3,35.900000000000006,35.7,35.3,35.10000000000001,34.900000000000006,34.7,34.5,34.3,33.7,33.5,32.7,32.5,32.3,31.900000000000006,31.5,31.299999999999997,30.900000000000006,30.700000000000003,30.60000000000001,30.700000000000003,30.900000000000006,31.10000000000001,31.299999999999997,31.5,31.700000000000003,31.900000000000006,32.10000000000001,32.2,32.10000000000001,31.700000000000003,31.5,31.299999999999997,31.10000000000001,30.900000000000006,30.700000000000003,30.299999999999997,30.10000000000001,29.900000000000006,29.700000000000003,27.700000000000003,27.5,27.300000000000004,27.1,26.700000000000003,26.5,26.300000000000004,26.1,25.700000000000003,25.5,25.300000000000004,25.1,24.700000000000003,24.5,24.300000000000004,24.1,23.700000000000003,23.5,23.300000000000004,23.1,22.900000000000006,22.700000000000003,22.5,22.300000000000004,21.700000000000003,21.300000000000004,21.1,20.700000000000003,20.5,20.1,19.900000000000006,19.300000000000004,19.1,18.300000000000004,18.1,17.700000000000003,17.5,17.300000000000004,17.200000000000003,16.800000000000004,12.600000000000001,9.800000000000004,8.0,0.6000000000000014,-2.8999999999999986,-3.0,-8.2,-10.599999999999998,-12.399999999999999,-14.399999999999999,-15.399999999999999,-16.599999999999998,-17.7,-17.9,-19.7,-19.9,-20.1,-20.5,-20.7,-21.1,-21.7,-22.1,-22.299999999999997,-22.5,-22.7,-22.9,-23.1,-23.9,-24.1,-24.9,-25.1,-25.299999999999997,-25.5,-25.9,-26.1,-26.3,-26.5,-26.9,-27.1,-27.3,-27.5,-27.7,-27.9,-28.3,-28.5,-28.7,-28.9,-29.3,-29.5,-29.7,-29.9,-30.3,-30.5,-30.7,-30.9,-31.1,-31.3,-31.7,-31.9,-32.1,-32.3,-32.5,-32.7,-32.8,-32.7,-32.5,-31.9,-31.7,-31.5,-30.9,-30.8,-30.9,-31.3,-31.5,-31.9,-32.1,-32.3,-32.5,-32.7,-32.8,-32.7,-32.1,-31.7,-31.5,-31.1,-30.9,-30.7,-30.5,-30.3,-30.1,-29.9,-29.5,-29.3,-29.1,-28.9,-28.7,-28.5,-28.3,-28.2,-27.8,-27.2,-26.8,-25.799999999999997,-25.4,-25.2,-24.799999999999997,-24.2,-23.799999999999997,-17.8],\"y\":[42.2,42.1,41.900000000000006,41.7,41.300000000000004,41.2,40.800000000000004,38.1,37.900000000000006,37.7,37.300000000000004,37.1,37.0,37.1,37.5,37.7,37.900000000000006,38.1,38.5,38.7,38.900000000000006,39.1,39.300000000000004,39.5,39.900000000000006,40.1,40.300000000000004,40.5,40.900000000000006,41.1,41.5,41.900000000000006,42.0,41.900000000000006,41.7,41.5,41.1,40.900000000000006,40.300000000000004,40.1,39.7,39.5,38.900000000000006,38.7,38.0,37.6,36.6,36.2,35.2,34.800000000000004,34.6,34.2,34.0,33.6,33.400000000000006,33.0,32.6,28.800000000000004,27.6,26.8,26.3,26.200000000000003,25.000000000000004,24.200000000000003,23.0,22.6,22.0,21.6,20.8,20.200000000000003,19.0,18.8,17.200000000000003,17.0,16.6,16.200000000000003,15.400000000000002,15.200000000000003,14.400000000000002,14.200000000000003,9.899999999999999,9.800000000000004,9.0,8.399999999999999,6.800000000000004,4.799999999999997,3.6000000000000014,3.0,2.6000000000000014,-12.899999999999999,-13.0,-13.799999999999997,-14.0,-14.399999999999999,-14.600000000000001,-15.0,-15.200000000000003,-16.0,-16.200000000000003,-16.6,-16.799999999999997,-20.799999999999997,-21.599999999999994,-22.0,-22.200000000000003,-23.0,-23.200000000000003,-23.599999999999994,-23.799999999999997,-24.599999999999994,-24.799999999999997,-25.200000000000003,-25.400000000000006,-26.200000000000003,-26.400000000000006,-26.799999999999997,-27.0,-27.799999999999997,-28.0,-28.400000000000006,-28.599999999999994,-29.0,-29.200000000000003,-29.599999999999994,-29.799999999999997,-31.0,-31.400000000000006,-31.799999999999997,-32.2,-32.599999999999994,-33.0,-33.400000000000006,-34.0,-34.400000000000006,-35.2,-35.60000000000001,-36.0,-36.400000000000006,-36.60000000000001,-36.900000000000006,-37.10000000000001,-37.7,-37.900000000000006,-38.10000000000001,-38.3,-38.400000000000006,-38.3,-38.10000000000001,-37.900000000000006,-37.7,-37.5,-37.3,-37.10000000000001,-36.0,-35.60000000000001,-33.8,-33.400000000000006,-33.2,-32.400000000000006,-32.2,-31.400000000000006,-30.799999999999997,-30.0,-29.799999999999997,-29.400000000000006,-29.200000000000003,-28.799999999999997,-28.599999999999994,-27.0,-26.799999999999997,-25.200000000000003,-25.0,-24.599999999999994,-24.400000000000006,-23.599999999999994,-23.400000000000006,-23.0,-22.799999999999997,-22.0,-21.799999999999997,-21.400000000000006,-21.200000000000003,-20.799999999999997,-20.6,-19.799999999999997,-19.6,-19.200000000000003,-19.0,-18.200000000000003,-18.0,-17.6,-17.4,-16.6,-16.4,-16.0,-15.799999999999997,-15.399999999999999,-15.200000000000003,-14.399999999999999,-14.200000000000003,-13.799999999999997,-13.600000000000001,-13.200000000000003,-11.399999999999999,1.8999999999999986,2.0,3.0,4.799999999999997,5.600000000000001,6.0,7.800000000000004,14.100000000000001,14.200000000000003,15.0,15.200000000000003,16.0,16.200000000000003,16.6,16.8,17.200000000000003,26.900000000000002,27.000000000000004,29.400000000000002,30.200000000000003,30.400000000000002,31.200000000000003,31.400000000000002,31.800000000000004,32.0,32.400000000000006,35.800000000000004,36.0,36.800000000000004,37.0,37.400000000000006,37.6,38.0,38.2,38.800000000000004,38.900000000000006,39.1,39.7,39.900000000000006,40.900000000000006,41.1,41.300000000000004,41.5,41.7,41.900000000000006,42.0],\"type\":\"scatter\"}],                        {\"template\":{\"data\":{\"candlestick\":[{\"decreasing\":{\"line\":{\"color\":\"#000033\"}},\"increasing\":{\"line\":{\"color\":\"#000032\"}},\"type\":\"candlestick\"}],\"contourcarpet\":[{\"colorscale\":[[0.0,\"#000011\"],[0.1111111111111111,\"#000012\"],[0.2222222222222222,\"#000013\"],[0.3333333333333333,\"#000014\"],[0.4444444444444444,\"#000015\"],[0.5555555555555556,\"#000016\"],[0.6666666666666666,\"#000017\"],[0.7777777777777778,\"#000018\"],[0.8888888888888888,\"#000019\"],[1.0,\"#000020\"]],\"type\":\"contourcarpet\"}],\"contour\":[{\"colorscale\":[[0.0,\"#000011\"],[0.1111111111111111,\"#000012\"],[0.2222222222222222,\"#000013\"],[0.3333333333333333,\"#000014\"],[0.4444444444444444,\"#000015\"],[0.5555555555555556,\"#000016\"],[0.6666666666666666,\"#000017\"],[0.7777777777777778,\"#000018\"],[0.8888888888888888,\"#000019\"],[1.0,\"#000020\"]],\"type\":\"contour\"}],\"heatmap\":[{\"colorscale\":[[0.0,\"#000011\"],[0.1111111111111111,\"#000012\"],[0.2222222222222222,\"#000013\"],[0.3333333333333333,\"#000014\"],[0.4444444444444444,\"#000015\"],[0.5555555555555556,\"#000016\"],[0.6666666666666666,\"#000017\"],[0.7777777777777778,\"#000018\"],[0.8888888888888888,\"#000019\"],[1.0,\"#000020\"]],\"type\":\"heatmap\"}],\"histogram2d\":[{\"colorscale\":[[0.0,\"#000011\"],[0.1111111111111111,\"#000012\"],[0.2222222222222222,\"#000013\"],[0.3333333333333333,\"#000014\"],[0.4444444444444444,\"#000015\"],[0.5555555555555556,\"#000016\"],[0.6666666666666666,\"#000017\"],[0.7777777777777778,\"#000018\"],[0.8888888888888888,\"#000019\"],[1.0,\"#000020\"]],\"type\":\"histogram2d\"}],\"icicle\":[{\"textfont\":{\"color\":\"white\"},\"type\":\"icicle\"}],\"sankey\":[{\"textfont\":{\"color\":\"#000036\"},\"type\":\"sankey\"}],\"scatter\":[{\"marker\":{\"line\":{\"width\":0}},\"type\":\"scatter\"}],\"table\":[{\"cells\":{\"fill\":{\"color\":\"#000038\"},\"font\":{\"color\":\"#000037\"},\"line\":{\"color\":\"#000039\"}},\"header\":{\"fill\":{\"color\":\"#000040\"},\"font\":{\"color\":\"#000036\"},\"line\":{\"color\":\"#000039\"}},\"type\":\"table\"}],\"waterfall\":[{\"connector\":{\"line\":{\"color\":\"#000036\",\"width\":2}},\"decreasing\":{\"marker\":{\"color\":\"#000033\"}},\"increasing\":{\"marker\":{\"color\":\"#000032\"}},\"totals\":{\"marker\":{\"color\":\"#000034\"}},\"type\":\"waterfall\"}]},\"layout\":{\"coloraxis\":{\"colorscale\":[[0.0,\"#000011\"],[0.1111111111111111,\"#000012\"],[0.2222222222222222,\"#000013\"],[0.3333333333333333,\"#000014\"],[0.4444444444444444,\"#000015\"],[0.5555555555555556,\"#000016\"],[0.6666666666666666,\"#000017\"],[0.7777777777777778,\"#000018\"],[0.8888888888888888,\"#000019\"],[1.0,\"#000020\"]]},\"colorscale\":{\"diverging\":[[0.0,\"#000021\"],[0.1,\"#000022\"],[0.2,\"#000023\"],[0.3,\"#000024\"],[0.4,\"#000025\"],[0.5,\"#000026\"],[0.6,\"#000027\"],[0.7,\"#000028\"],[0.8,\"#000029\"],[0.9,\"#000030\"],[1.0,\"#000031\"]],\"sequential\":[[0.0,\"#000011\"],[0.1111111111111111,\"#000012\"],[0.2222222222222222,\"#000013\"],[0.3333333333333333,\"#000014\"],[0.4444444444444444,\"#000015\"],[0.5555555555555556,\"#000016\"],[0.6666666666666666,\"#000017\"],[0.7777777777777778,\"#000018\"],[0.8888888888888888,\"#000019\"],[1.0,\"#000020\"]],\"sequentialminus\":[[0.0,\"#000011\"],[0.1111111111111111,\"#000012\"],[0.2222222222222222,\"#000013\"],[0.3333333333333333,\"#000014\"],[0.4444444444444444,\"#000015\"],[0.5555555555555556,\"#000016\"],[0.6666666666666666,\"#000017\"],[0.7777777777777778,\"#000018\"],[0.8888888888888888,\"#000019\"],[1.0,\"#000020\"]]},\"colorway\":[\"#000001\",\"#000002\",\"#000003\",\"#000004\",\"#000005\",\"#000006\",\"#000007\",\"#000008\",\"#000009\",\"#000010\"]}}},                        {\"responsive\": true}                    ).then(function(){\n",
       "                            \n",
       "var gd = document.getElementById('a65098ec-2916-44ea-9edc-6c3cafd622d5');\n",
       "var x = new MutationObserver(function (mutations, observer) {{\n",
       "        var display = window.getComputedStyle(gd).display;\n",
       "        if (!display || display === 'none') {{\n",
       "            console.log([gd, 'removed!']);\n",
       "            Plotly.purge(gd);\n",
       "            observer.disconnect();\n",
       "        }}\n",
       "}});\n",
       "\n",
       "// Listen for the removal of the full notebook cells\n",
       "var notebookContainer = gd.closest('#notebook-container');\n",
       "if (notebookContainer) {{\n",
       "    x.observe(notebookContainer, {childList: true});\n",
       "}}\n",
       "\n",
       "// Listen for the clearing of the current output cell\n",
       "var outputEl = gd.closest('.output');\n",
       "if (outputEl) {{\n",
       "    x.observe(outputEl, {childList: true});\n",
       "}}\n",
       "\n",
       "                        })                };                });            </script>        </div>"
      ]
     },
     "metadata": {},
     "output_type": "display_data"
    }
   ],
   "source": [
    "import plotly.express as px\n",
    "import plotly.graph_objects as go\n",
    "for fld_name, field_df in df.groupby('Field ID'):\n",
    "    st.subheader(fld_name)\n",
    "    fig_scatt = None\n",
    "\n",
    "    for _, dfc_field in dfc[dfc['Beam ID'] == fld_name].groupby('Contour Idx'):\n",
    "        structure_id = dfc_field['Structure ID'][0]\n",
    "        fig_scatt = go.Figure([go.Scatter(\n",
    "            x=dfc_field['Points X'], y=dfc_field['Points Y'], mode='lines',\n",
    "            name=structure_id)]\n",
    "        )\n",
    "        fig_scatt.update_traces(line_color=dfc_field['Color'][0], selector=dict(name='PTV'))\n",
    "\n",
    "    #st.plotly_chart(fig_scatt, use_container_width=True)\n",
    "    iplot(fig_scatt)"
   ]
  },
  {
   "cell_type": "code",
   "execution_count": null,
   "id": "b8e491eb-8d07-4dbb-b41a-c8bcf572c3bc",
   "metadata": {},
   "outputs": [],
   "source": []
  },
  {
   "cell_type": "code",
   "execution_count": null,
   "id": "ce8e1221-2bff-4c4e-bfbb-6b083dae7327",
   "metadata": {},
   "outputs": [],
   "source": []
  }
 ],
 "metadata": {
  "kernelspec": {
   "display_name": "Python 3 (ipykernel)",
   "language": "python",
   "name": "python3"
  },
  "language_info": {
   "codemirror_mode": {
    "name": "ipython",
    "version": 3
   },
   "file_extension": ".py",
   "mimetype": "text/x-python",
   "name": "python",
   "nbconvert_exporter": "python",
   "pygments_lexer": "ipython3",
   "version": "3.10.11"
  }
 },
 "nbformat": 4,
 "nbformat_minor": 5
}
